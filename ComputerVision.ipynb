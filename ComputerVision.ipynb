{
  "cells": [
    {
      "attachments": {},
      "cell_type": "markdown",
      "metadata": {
        "id": "Sr7v0uyyMeXh"
      },
      "source": [
        "Для данной лабораторной работы был выбран датасет от Intel в котором изображения разделены на 6 классов:\n",
        "1. Buildings - постройки\n",
        "2. Forests - леса\n",
        "3. Glacier - ледники\n",
        "4. Streets - улицы\n",
        "5. Mountains - горы\n",
        "6. Sea - моря\n",
        "\n",
        "Задача состоит в классификации изображений по данный 6 классам.\n",
        "\n",
        "Сначала обозначим пути к файлам и папка для обучения и валидации."
      ]
    },
    {
      "cell_type": "code",
      "execution_count": null,
      "metadata": {
        "id": "-REIZi2FfBL9"
      },
      "outputs": [],
      "source": [
        "import os, shutil\n",
        "\n",
        "base_dir =  \"C:/Users/mi-sh/OneDrive/Desktop/images\"\n",
        "\n",
        "train_dir = os.path.join(base_dir, 'seg_train')\n",
        "\n",
        "validation_dir = os.path.join(base_dir, 'seg_test')\n",
        "\n",
        "test_dir = os.path.join(base_dir, 'seg_pred', )\n",
        "\n",
        "train_buildings_dir = os.path.join(train_dir, 'buildings')\n",
        "train_forest_dir = os.path.join(train_dir, 'forest')\n",
        "train_glacier_dir = os.path.join(train_dir, 'glacier')\n",
        "train_mountain_dir = os.path.join(train_dir, 'mountain')\n",
        "train_sea_dir = os.path.join(train_dir, 'sea')\n",
        "train_street_dir = os.path.join(train_dir, 'street')\n",
        "\n",
        "val_buildings_dir = os.path.join(validation_dir, 'buildings')\n",
        "val_forest_dir = os.path.join(validation_dir, 'forest')\n",
        "val_glacier_dir = os.path.join(validation_dir, 'glacier')\n",
        "val_mountain_dir = os.path.join(validation_dir, 'mountain')\n",
        "val_sea_dir = os.path.join(validation_dir, 'sea')\n",
        "val_street_dir = os.path.join(validation_dir, 'street')\n",
        "\n",
        "\n",
        "\n"
      ]
    },
    {
      "cell_type": "code",
      "execution_count": null,
      "metadata": {
        "colab": {
          "base_uri": "https://localhost:8080/"
        },
        "id": "Xj2uqEV4HUry",
        "outputId": "449fe7e3-248b-4bbd-b011-d2c2f0078fec"
      },
      "outputs": [
        {
          "name": "stdout",
          "output_type": "stream",
          "text": [
            "total training buildings images: 2191\n",
            "total training forest images: 2271\n",
            "total training glacier images: 2404\n",
            "total training mountain images: 2512\n",
            "total training sea images: 2274\n",
            "total training street images: 2382 \n",
            "\n",
            "total validation buildings images: 437\n",
            "total validation forest images: 474\n",
            "total validation glacier images: 553\n",
            "total validation mountain images: 525\n",
            "total validation sea images: 510\n",
            "total validation street images: 501 \n",
            "\n",
            "total test images: 7301\n"
          ]
        }
      ],
      "source": [
        "print('total training buildings images:', len(os.listdir(train_buildings_dir)))\n",
        "print('total training forest images:', len(os.listdir(train_forest_dir)))\n",
        "print('total training glacier images:', len(os.listdir(train_glacier_dir)))\n",
        "print('total training mountain images:', len(os.listdir(train_mountain_dir)))\n",
        "print('total training sea images:', len(os.listdir(train_sea_dir)))\n",
        "print('total training street images:', len(os.listdir(train_street_dir)), '\\n')\n",
        "\n",
        "print('total validation buildings images:', len(os.listdir(val_buildings_dir)))\n",
        "print('total validation forest images:', len(os.listdir(val_forest_dir)))\n",
        "print('total validation glacier images:', len(os.listdir(val_glacier_dir)))\n",
        "print('total validation mountain images:', len(os.listdir(val_mountain_dir)))\n",
        "print('total validation sea images:', len(os.listdir(val_sea_dir)))\n",
        "print('total validation street images:', len(os.listdir(val_street_dir)),  '\\n')\n",
        "\n",
        "print('total test images:', len(os.listdir(test_dir)))"
      ]
    },
    {
      "cell_type": "markdown",
      "metadata": {
        "id": "WtQFfKEyOz9I"
      },
      "source": [
        "Как видно из данных выше, в среднем в тренировочной выборке примерно по 2400 изображений каждого класса, а в валидационной выборке примерно по 500. Далее построим первую модель сверточной нейронной сети. Для этого воспользуемся функцией активации softmax, так как у нас многоклассовая активация, а функцию потерь возьмем categorical_crossentropy.\n",
        "\n",
        "Данная нейронная сеть состоит и 4 сверточных слоев, на которых происходит свертка, а также из 4 пулинговых слоев, которые уплотняют наше изображения. Данные слои последовательно чередуются между собой."
      ]
    },
    {
      "cell_type": "code",
      "execution_count": null,
      "metadata": {
        "id": "eQseHYQRLluX"
      },
      "outputs": [],
      "source": [
        "import tensorflow as tf\n",
        "from tensorflow import keras\n",
        "from keras import layers, models\n",
        "\n",
        "model = models.Sequential()\n",
        "model.add(layers.Conv2D(32,(3,3), activation='relu',\n",
        "                        input_shape=(150,150,3)))\n",
        "\n",
        "model.add(layers.MaxPooling2D((2, 2)))\n",
        "model.add(layers.Conv2D(64, (3, 3), activation='relu'))\n",
        "model.add(layers.MaxPooling2D((2, 2)))\n",
        "model.add(layers.Conv2D(128, (3, 3), activation='relu'))\n",
        "model.add(layers.MaxPooling2D((2, 2)))\n",
        "model.add(layers.Conv2D(128, (3, 3), activation='relu'))\n",
        "model.add(layers.MaxPooling2D((2, 2)))\n",
        "model.add(layers.Flatten())\n",
        "model.add(layers.Dense(512, activation='relu'))\n",
        "model.add(layers.Dense(6, activation='softmax'))"
      ]
    },
    {
      "cell_type": "code",
      "execution_count": null,
      "metadata": {
        "colab": {
          "base_uri": "https://localhost:8080/"
        },
        "id": "ZaNHdCjZNLmT",
        "outputId": "bb00029b-e34a-4c96-9223-715ab3b35100"
      },
      "outputs": [
        {
          "name": "stdout",
          "output_type": "stream",
          "text": [
            "Model: \"sequential_1\"\n",
            "_________________________________________________________________\n",
            " Layer (type)                Output Shape              Param #   \n",
            "=================================================================\n",
            " conv2d_4 (Conv2D)           (None, 148, 148, 32)      896       \n",
            "                                                                 \n",
            " max_pooling2d_4 (MaxPooling  (None, 74, 74, 32)       0         \n",
            " 2D)                                                             \n",
            "                                                                 \n",
            " conv2d_5 (Conv2D)           (None, 72, 72, 64)        18496     \n",
            "                                                                 \n",
            " max_pooling2d_5 (MaxPooling  (None, 36, 36, 64)       0         \n",
            " 2D)                                                             \n",
            "                                                                 \n",
            " conv2d_6 (Conv2D)           (None, 34, 34, 128)       73856     \n",
            "                                                                 \n",
            " max_pooling2d_6 (MaxPooling  (None, 17, 17, 128)      0         \n",
            " 2D)                                                             \n",
            "                                                                 \n",
            " conv2d_7 (Conv2D)           (None, 15, 15, 128)       147584    \n",
            "                                                                 \n",
            " max_pooling2d_7 (MaxPooling  (None, 7, 7, 128)        0         \n",
            " 2D)                                                             \n",
            "                                                                 \n",
            " flatten_1 (Flatten)         (None, 6272)              0         \n",
            "                                                                 \n",
            " dense_2 (Dense)             (None, 512)               3211776   \n",
            "                                                                 \n",
            " dense_3 (Dense)             (None, 6)                 3078      \n",
            "                                                                 \n",
            "=================================================================\n",
            "Total params: 3,455,686\n",
            "Trainable params: 3,455,686\n",
            "Non-trainable params: 0\n",
            "_________________________________________________________________\n"
          ]
        }
      ],
      "source": [
        "model.summary()"
      ]
    },
    {
      "cell_type": "code",
      "execution_count": null,
      "metadata": {
        "id": "1sjApC5fNSPJ"
      },
      "outputs": [],
      "source": [
        "from keras import optimizers\n",
        "\n",
        "model.compile(loss='categorical_crossentropy',\n",
        " optimizer=optimizers.RMSprop(lr=1e-4),\n",
        " metrics=['acc'])"
      ]
    },
    {
      "cell_type": "code",
      "execution_count": null,
      "metadata": {
        "colab": {
          "base_uri": "https://localhost:8080/"
        },
        "id": "-LB1cP9aGPRf",
        "outputId": "de5a6d9d-01aa-4aec-fe06-700ea0aab7c1"
      },
      "outputs": [
        {
          "name": "stdout",
          "output_type": "stream",
          "text": [
            "Found 14034 images belonging to 6 classes.\n",
            "Found 3000 images belonging to 6 classes.\n"
          ]
        }
      ],
      "source": [
        "from keras.preprocessing.image import ImageDataGenerator\n",
        "train_datagen = ImageDataGenerator(rescale=1./255)\n",
        "test_datagen = ImageDataGenerator(rescale=1./255)\n",
        "\n",
        "train_generator = train_datagen.flow_from_directory(\n",
        "    train_dir,\n",
        "    target_size=(150,150),\n",
        "    batch_size=20,\n",
        "    class_mode='categorical'\n",
        ")\n",
        "\n",
        "validation_generator = test_datagen.flow_from_directory(\n",
        " validation_dir,\n",
        " target_size=(150, 150),\n",
        " batch_size=20,\n",
        " class_mode='categorical'\n",
        " )\n"
      ]
    },
    {
      "cell_type": "markdown",
      "metadata": {
        "id": "3VbJ3g5SP1Yp"
      },
      "source": [
        "Таким образом, суммарно в тренировочной выборке 14034 изображений принадлежащих к 6 классам, а также 3000 изображений принадлежащих к 6 классам в валидационной выборке.\n",
        "\n",
        "train_datagen делает предобработку изображений с перемасштабированием.\n",
        "В нашем случае размер изображений составляет 150 на 150 пикселей.\n",
        "\n",
        "Также установим колбеки, в которых прописываем остановку после 2 эпох без улучшений, а также сохранений логов после каждой эпохи."
      ]
    },
    {
      "cell_type": "code",
      "execution_count": null,
      "metadata": {
        "id": "uDy83visLiVT"
      },
      "outputs": [],
      "source": [
        "my_callbacks = [\n",
        "    tf.keras.callbacks.EarlyStopping(patience=2),\n",
        "    tf.keras.callbacks.ModelCheckpoint(filepath='model.{epoch:02d}-{val_loss:.2f}.h5'),\n",
        "    tf.keras.callbacks.TensorBoard(log_dir='C:/Users/mi-sh/OneDrive/Desktop/logs2')\n",
        "]"
      ]
    },
    {
      "cell_type": "code",
      "execution_count": null,
      "metadata": {
        "colab": {
          "base_uri": "https://localhost:8080/"
        },
        "id": "GmFciBkKHIBj",
        "outputId": "98ecf871-f733-45e3-d521-cc5377604e7f"
      },
      "outputs": [
        {
          "name": "stdout",
          "output_type": "stream",
          "text": [
            "Epoch 1/20\n",
            "702/702 [==============================] - 253s 359ms/step - loss: 1.0799 - acc: 0.5866 - val_loss: 0.9513 - val_acc: 0.6347\n",
            "Epoch 2/20\n",
            "702/702 [==============================] - 248s 354ms/step - loss: 0.8141 - acc: 0.6959 - val_loss: 0.7724 - val_acc: 0.7150\n",
            "Epoch 3/20\n",
            "702/702 [==============================] - 250s 357ms/step - loss: 0.6934 - acc: 0.7447 - val_loss: 0.7410 - val_acc: 0.7290\n",
            "Epoch 4/20\n",
            "702/702 [==============================] - 251s 357ms/step - loss: 0.6134 - acc: 0.7787 - val_loss: 0.7726 - val_acc: 0.7270\n",
            "Epoch 5/20\n",
            "702/702 [==============================] - 252s 360ms/step - loss: 0.5547 - acc: 0.7990 - val_loss: 0.6532 - val_acc: 0.7717\n",
            "Epoch 6/20\n",
            "702/702 [==============================] - 252s 360ms/step - loss: 0.5037 - acc: 0.8158 - val_loss: 0.5466 - val_acc: 0.8093\n",
            "Epoch 7/20\n",
            "702/702 [==============================] - 246s 351ms/step - loss: 0.4624 - acc: 0.8339 - val_loss: 0.6802 - val_acc: 0.7637\n",
            "Epoch 8/20\n",
            "702/702 [==============================] - 243s 347ms/step - loss: 0.4215 - acc: 0.8524 - val_loss: 0.4727 - val_acc: 0.8413\n",
            "Epoch 9/20\n",
            "702/702 [==============================] - 244s 347ms/step - loss: 0.3845 - acc: 0.8621 - val_loss: 0.4989 - val_acc: 0.8237\n",
            "Epoch 10/20\n",
            "702/702 [==============================] - 237s 338ms/step - loss: 0.3524 - acc: 0.8737 - val_loss: 0.4901 - val_acc: 0.8343\n"
          ]
        }
      ],
      "source": [
        "history = model.fit(\n",
        " train_generator,\n",
        " epochs=20,\n",
        " validation_data=validation_generator,\n",
        " callbacks=my_callbacks)"
      ]
    },
    {
      "cell_type": "markdown",
      "metadata": {
        "id": "lc_ewDIpQyNK"
      },
      "source": [
        "Как мы видим, наша модель достигла максимального значения на 8 эпохе и точность составила 84,13%. На графиках можно наблюдать процесс обучения сети на каждой из эпох. \n",
        "\n",
        "Сохраним данную модель, а также попробуем скорректировать некоторые параметры чтобы получить лучшие результаты."
      ]
    },
    {
      "cell_type": "code",
      "execution_count": null,
      "metadata": {
        "id": "vOBb1xZ3It5D"
      },
      "outputs": [],
      "source": [
        "model.save('intel_images1.h5')"
      ]
    },
    {
      "cell_type": "code",
      "execution_count": null,
      "metadata": {
        "id": "QXeQC9hkLiVU",
        "outputId": "2af1745e-99bb-4222-d7ea-267553c9d8bc"
      },
      "outputs": [
        {
          "data": {
            "image/png": "[encoded data removed]",
            "text/plain": [
              "<Figure size 432x288 with 1 Axes>"
            ]
          },
          "metadata": {
            "needs_background": "light"
          },
          "output_type": "display_data"
        },
        {
          "data": {
            "image/png": "[encoded data removed]",
            "text/plain": [
              "<Figure size 432x288 with 1 Axes>"
            ]
          },
          "metadata": {
            "needs_background": "light"
          },
          "output_type": "display_data"
        }
      ],
      "source": [
        "import matplotlib.pyplot as plt\n",
        "acc = history.history['acc']\n",
        "val_acc = history.history['val_acc']\n",
        "loss = history.history['loss']\n",
        "val_loss = history.history['val_loss']\n",
        "epochs = range(1, len(acc) + 1)\n",
        "plt.plot(epochs, acc, 'bo', label='Training acc')\n",
        "plt.plot(epochs, val_acc, 'b', label='Validation acc')\n",
        "plt.title('Training and validation accuracy')\n",
        "plt.legend()\n",
        "plt.figure()\n",
        "plt.plot(epochs, loss, 'bo', label='Training loss')\n",
        "plt.plot(epochs, val_loss, 'b', label='Validation loss')\n",
        "plt.title('Training and validation loss')\n",
        "plt.legend()\n",
        "plt.show()"
      ]
    },
    {
      "cell_type": "markdown",
      "metadata": {
        "id": "ZUDFupbvRPC7"
      },
      "source": [
        "Данная модель имеет аналогичную архитектуру, но на выходе имеет уменьшенное колиство каналов, за счет чего имеем меньшее количество параметров нейронной сети."
      ]
    },
    {
      "cell_type": "code",
      "execution_count": null,
      "metadata": {
        "id": "rv4Xw4y4LiVV"
      },
      "outputs": [],
      "source": [
        "model2 = models.Sequential()\n",
        "model2.add(layers.Conv2D(32,(3,3), activation='relu',\n",
        "                        input_shape=(150,150,3)))\n",
        "\n",
        "model2.add(layers.MaxPooling2D((2, 2)))\n",
        "model2.add(layers.Conv2D(64, (3, 3), activation='relu'))\n",
        "model2.add(layers.MaxPooling2D((2, 2)))\n",
        "model2.add(layers.Conv2D(64, (3, 3), activation='relu'))\n",
        "model2.add(layers.MaxPooling2D((2, 2)))\n",
        "model2.add(layers.Conv2D(64, (3, 3), activation='relu'))\n",
        "model2.add(layers.MaxPooling2D((2, 2)))\n",
        "model2.add(layers.Flatten())\n",
        "model2.add(layers.Dense(64, activation='relu'))\n",
        "model2.add(layers.Dense(6, activation='softmax'))"
      ]
    },
    {
      "cell_type": "code",
      "execution_count": null,
      "metadata": {
        "id": "746YMzSyLiVV"
      },
      "outputs": [],
      "source": [
        "from keras import optimizers\n",
        "\n",
        "model2.compile(loss='categorical_crossentropy',\n",
        " optimizer=optimizers.RMSprop(lr=1e-4),\n",
        " metrics=['acc'])"
      ]
    },
    {
      "cell_type": "code",
      "execution_count": null,
      "metadata": {
        "id": "AH9P725tLiVW",
        "outputId": "2ec7e1d9-b3b3-43ae-b12f-3280c3aab165"
      },
      "outputs": [
        {
          "name": "stdout",
          "output_type": "stream",
          "text": [
            "Model: \"sequential_2\"\n",
            "_________________________________________________________________\n",
            " Layer (type)                Output Shape              Param #   \n",
            "=================================================================\n",
            " conv2d_8 (Conv2D)           (None, 148, 148, 32)      896       \n",
            "                                                                 \n",
            " max_pooling2d_8 (MaxPooling  (None, 74, 74, 32)       0         \n",
            " 2D)                                                             \n",
            "                                                                 \n",
            " conv2d_9 (Conv2D)           (None, 72, 72, 64)        18496     \n",
            "                                                                 \n",
            " max_pooling2d_9 (MaxPooling  (None, 36, 36, 64)       0         \n",
            " 2D)                                                             \n",
            "                                                                 \n",
            " conv2d_10 (Conv2D)          (None, 34, 34, 64)        36928     \n",
            "                                                                 \n",
            " max_pooling2d_10 (MaxPoolin  (None, 17, 17, 64)       0         \n",
            " g2D)                                                            \n",
            "                                                                 \n",
            " conv2d_11 (Conv2D)          (None, 15, 15, 64)        36928     \n",
            "                                                                 \n",
            " max_pooling2d_11 (MaxPoolin  (None, 7, 7, 64)         0         \n",
            " g2D)                                                            \n",
            "                                                                 \n",
            " flatten_2 (Flatten)         (None, 3136)              0         \n",
            "                                                                 \n",
            " dense_4 (Dense)             (None, 64)                200768    \n",
            "                                                                 \n",
            " dense_5 (Dense)             (None, 6)                 390       \n",
            "                                                                 \n",
            "=================================================================\n",
            "Total params: 294,406\n",
            "Trainable params: 294,406\n",
            "Non-trainable params: 0\n",
            "_________________________________________________________________\n"
          ]
        }
      ],
      "source": [
        "model2.summary()"
      ]
    },
    {
      "cell_type": "code",
      "execution_count": null,
      "metadata": {
        "id": "UbRZUYGALiVW"
      },
      "outputs": [],
      "source": [
        "my_callbacks2 = [\n",
        "    tf.keras.callbacks.EarlyStopping(patience=2),\n",
        "    tf.keras.callbacks.ModelCheckpoint(filepath='model2.{epoch:02d}-{val_loss:.2f}.h5'),\n",
        "    tf.keras.callbacks.TensorBoard(log_dir='C:/Users/mi-sh/OneDrive/Desktop/logs2_2')\n",
        "]"
      ]
    },
    {
      "cell_type": "code",
      "execution_count": null,
      "metadata": {
        "id": "h6UP2TsxLiVX",
        "outputId": "ea9e1383-f67a-4c08-9d07-b60fa0ba392b"
      },
      "outputs": [
        {
          "name": "stdout",
          "output_type": "stream",
          "text": [
            "Epoch 1/20\n",
            "702/702 [==============================] - 190s 269ms/step - loss: 1.1634 - acc: 0.5385 - val_loss: 0.9841 - val_acc: 0.6213\n",
            "Epoch 2/20\n",
            "702/702 [==============================] - 196s 280ms/step - loss: 0.9337 - acc: 0.6429 - val_loss: 0.8617 - val_acc: 0.6760\n",
            "Epoch 3/20\n",
            "702/702 [==============================] - 199s 283ms/step - loss: 0.8204 - acc: 0.6896 - val_loss: 0.8583 - val_acc: 0.6867\n",
            "Epoch 4/20\n",
            "702/702 [==============================] - 198s 281ms/step - loss: 0.7528 - acc: 0.7218 - val_loss: 0.7766 - val_acc: 0.7217\n",
            "Epoch 5/20\n",
            "702/702 [==============================] - 197s 281ms/step - loss: 0.6956 - acc: 0.7402 - val_loss: 0.6782 - val_acc: 0.7463\n",
            "Epoch 6/20\n",
            "702/702 [==============================] - 204s 290ms/step - loss: 0.6549 - acc: 0.7617 - val_loss: 0.7137 - val_acc: 0.7473\n",
            "Epoch 7/20\n",
            "702/702 [==============================] - 205s 292ms/step - loss: 0.6140 - acc: 0.7773 - val_loss: 0.6637 - val_acc: 0.7610\n",
            "Epoch 8/20\n",
            "702/702 [==============================] - 204s 291ms/step - loss: 0.5862 - acc: 0.7896 - val_loss: 0.5590 - val_acc: 0.8000\n",
            "Epoch 9/20\n",
            "702/702 [==============================] - 198s 282ms/step - loss: 0.5590 - acc: 0.8004 - val_loss: 0.5467 - val_acc: 0.8040\n",
            "Epoch 10/20\n",
            "702/702 [==============================] - 199s 283ms/step - loss: 0.5338 - acc: 0.8089 - val_loss: 0.6502 - val_acc: 0.7607\n",
            "Epoch 11/20\n",
            "702/702 [==============================] - 198s 282ms/step - loss: 0.5121 - acc: 0.8173 - val_loss: 0.5432 - val_acc: 0.8047\n",
            "Epoch 12/20\n",
            "702/702 [==============================] - 201s 287ms/step - loss: 0.4893 - acc: 0.8228 - val_loss: 0.5398 - val_acc: 0.8070\n",
            "Epoch 13/20\n",
            "702/702 [==============================] - 208s 296ms/step - loss: 0.4729 - acc: 0.8286 - val_loss: 0.5093 - val_acc: 0.8227\n",
            "Epoch 14/20\n",
            "702/702 [==============================] - 205s 292ms/step - loss: 0.4534 - acc: 0.8380 - val_loss: 0.5213 - val_acc: 0.8130\n",
            "Epoch 15/20\n",
            "702/702 [==============================] - 206s 293ms/step - loss: 0.4360 - acc: 0.8468 - val_loss: 0.5369 - val_acc: 0.8077\n"
          ]
        }
      ],
      "source": [
        "history2 = model2.fit(\n",
        " train_generator,\n",
        " epochs=20,\n",
        " validation_data=validation_generator,\n",
        " callbacks=my_callbacks2)"
      ]
    },
    {
      "cell_type": "markdown",
      "metadata": {
        "id": "1yKZx5dsSBOc"
      },
      "source": [
        "В данном случае нейронная сеть достигла максимума на 13 эпохе и ее точность составила 82,27%, что ниже чем было ранее. Также процесс обучения закончился на 15 эпохе. Аналогично графики обучения представлены ниже."
      ]
    },
    {
      "cell_type": "code",
      "execution_count": null,
      "metadata": {
        "id": "JVmrXMkzLiVX"
      },
      "outputs": [],
      "source": [
        "model2.save('intel_images2.h5')"
      ]
    },
    {
      "cell_type": "code",
      "execution_count": null,
      "metadata": {
        "id": "LPNYEtbsLiVY",
        "outputId": "fa0be653-a18e-4fe2-baa1-41d20c2a8dba"
      },
      "outputs": [
        {
          "data": {
            "image/png": "[encoded data removed]",
            "text/plain": [
              "<Figure size 432x288 with 1 Axes>"
            ]
          },
          "metadata": {
            "needs_background": "light"
          },
          "output_type": "display_data"
        },
        {
          "data": {
            "image/png": "[encoded data removed]",
            "text/plain": [
              "<Figure size 432x288 with 1 Axes>"
            ]
          },
          "metadata": {
            "needs_background": "light"
          },
          "output_type": "display_data"
        }
      ],
      "source": [
        "import matplotlib.pyplot as plt\n",
        "acc = history2.history['acc']\n",
        "val_acc = history2.history['val_acc']\n",
        "loss = history2.history['loss']\n",
        "val_loss = history2.history['val_loss']\n",
        "epochs = range(1, len(acc) + 1)\n",
        "plt.plot(epochs, acc, 'bo', label='Training acc')\n",
        "plt.plot(epochs, val_acc, 'b', label='Validation acc')\n",
        "plt.title('Training and validation accuracy')\n",
        "plt.legend()\n",
        "plt.figure()\n",
        "plt.plot(epochs, loss, 'bo', label='Training loss')\n",
        "plt.plot(epochs, val_loss, 'b', label='Validation loss')\n",
        "plt.title('Training and validation loss')\n",
        "plt.legend()\n",
        "plt.show()"
      ]
    },
    {
      "cell_type": "markdown",
      "metadata": {
        "id": "pcsZmTeJSPgw"
      },
      "source": [
        "Попробуем изменить архитектуру нейронной сети путем добавления в нее слоя GlobalAveragePooling2D, который усредняет значения по каналам. В данном случае мы наоборот увеличиваем количество каналов, чтобы получить достаточное количество параметров на выходе."
      ]
    },
    {
      "cell_type": "code",
      "execution_count": null,
      "metadata": {
        "id": "6AULtO3GLiVY"
      },
      "outputs": [],
      "source": [
        "model3 = models.Sequential()\n",
        "model3.add(layers.Conv2D(32,(3,3), activation='relu',\n",
        "                        input_shape=(150,150,3)))\n",
        "\n",
        "model3.add(layers.MaxPooling2D((2, 2)))\n",
        "model3.add(layers.Conv2D(64, (3, 3), activation='relu'))\n",
        "model3.add(layers.MaxPooling2D((2, 2)))\n",
        "model3.add(layers.Conv2D(128, (3, 3), activation='relu'))\n",
        "model3.add(layers.MaxPooling2D((2, 2)))\n",
        "model3.add(layers.Conv2D(256, (3, 3), activation='relu'))\n",
        "model3.add(layers.MaxPooling2D((2, 2)))\n",
        "model3.add(layers.GlobalAveragePooling2D())\n",
        "model3.add(layers.Dense(256, activation='relu'))\n",
        "model3.add(layers.Dense(6, activation='softmax'))"
      ]
    },
    {
      "cell_type": "code",
      "execution_count": null,
      "metadata": {
        "id": "eZ9Nb8TILiVZ",
        "outputId": "18461453-fba5-4061-c277-e69440b69bd8"
      },
      "outputs": [
        {
          "name": "stdout",
          "output_type": "stream",
          "text": [
            "Model: \"sequential_7\"\n",
            "_________________________________________________________________\n",
            " Layer (type)                Output Shape              Param #   \n",
            "=================================================================\n",
            " conv2d_28 (Conv2D)          (None, 148, 148, 32)      896       \n",
            "                                                                 \n",
            " max_pooling2d_28 (MaxPoolin  (None, 74, 74, 32)       0         \n",
            " g2D)                                                            \n",
            "                                                                 \n",
            " conv2d_29 (Conv2D)          (None, 72, 72, 64)        18496     \n",
            "                                                                 \n",
            " max_pooling2d_29 (MaxPoolin  (None, 36, 36, 64)       0         \n",
            " g2D)                                                            \n",
            "                                                                 \n",
            " conv2d_30 (Conv2D)          (None, 34, 34, 128)       73856     \n",
            "                                                                 \n",
            " max_pooling2d_30 (MaxPoolin  (None, 17, 17, 128)      0         \n",
            " g2D)                                                            \n",
            "                                                                 \n",
            " conv2d_31 (Conv2D)          (None, 15, 15, 256)       295168    \n",
            "                                                                 \n",
            " max_pooling2d_31 (MaxPoolin  (None, 7, 7, 256)        0         \n",
            " g2D)                                                            \n",
            "                                                                 \n",
            " global_average_pooling2d_4   (None, 256)              0         \n",
            " (GlobalAveragePooling2D)                                        \n",
            "                                                                 \n",
            " dense_14 (Dense)            (None, 256)               65792     \n",
            "                                                                 \n",
            " dense_15 (Dense)            (None, 6)                 1542      \n",
            "                                                                 \n",
            "=================================================================\n",
            "Total params: 455,750\n",
            "Trainable params: 455,750\n",
            "Non-trainable params: 0\n",
            "_________________________________________________________________\n"
          ]
        }
      ],
      "source": [
        "model3.summary()"
      ]
    },
    {
      "cell_type": "code",
      "execution_count": null,
      "metadata": {
        "id": "sROxMou2LiVZ"
      },
      "outputs": [],
      "source": [
        "my_callbacks3 = [\n",
        "    tf.keras.callbacks.EarlyStopping(patience=3),\n",
        "    tf.keras.callbacks.ModelCheckpoint(filepath='model3.{epoch:02d}-{val_loss:.2f}.h5'),\n",
        "    tf.keras.callbacks.TensorBoard(log_dir='C:/Users/mi-sh/OneDrive/Desktop/logs2_3')\n",
        "]"
      ]
    },
    {
      "cell_type": "code",
      "execution_count": null,
      "metadata": {
        "id": "MyJTTlKTLiVa"
      },
      "outputs": [],
      "source": [
        "model3.compile(loss='categorical_crossentropy',\n",
        " optimizer=optimizers.RMSprop(lr=1e-4),\n",
        " metrics=['acc'])"
      ]
    },
    {
      "cell_type": "code",
      "execution_count": null,
      "metadata": {
        "id": "kmNKsFq8LiVa",
        "outputId": "bd061ad8-ff2c-4917-84a4-4b454d54e47f"
      },
      "outputs": [
        {
          "name": "stdout",
          "output_type": "stream",
          "text": [
            "Epoch 1/20\n",
            "702/702 [==============================] - 260s 369ms/step - loss: 1.3056 - acc: 0.4475 - val_loss: 1.1290 - val_acc: 0.5420\n",
            "Epoch 2/20\n",
            "702/702 [==============================] - 274s 391ms/step - loss: 1.0583 - acc: 0.5869 - val_loss: 0.9399 - val_acc: 0.6287\n",
            "Epoch 3/20\n",
            "702/702 [==============================] - 257s 366ms/step - loss: 0.9265 - acc: 0.6428 - val_loss: 0.9042 - val_acc: 0.6503\n",
            "Epoch 4/20\n",
            "702/702 [==============================] - 260s 370ms/step - loss: 0.8544 - acc: 0.6797 - val_loss: 0.8489 - val_acc: 0.6813\n",
            "Epoch 5/20\n",
            "702/702 [==============================] - 262s 374ms/step - loss: 0.8026 - acc: 0.6987 - val_loss: 0.8273 - val_acc: 0.6837\n",
            "Epoch 6/20\n",
            "702/702 [==============================] - 269s 383ms/step - loss: 0.7564 - acc: 0.7210 - val_loss: 0.7143 - val_acc: 0.7343\n",
            "Epoch 7/20\n",
            "702/702 [==============================] - 276s 393ms/step - loss: 0.7209 - acc: 0.7372 - val_loss: 0.6589 - val_acc: 0.7617\n",
            "Epoch 8/20\n",
            "702/702 [==============================] - 283s 403ms/step - loss: 0.6930 - acc: 0.7492 - val_loss: 0.6530 - val_acc: 0.7687\n",
            "Epoch 9/20\n",
            "702/702 [==============================] - 255s 364ms/step - loss: 0.6615 - acc: 0.7600 - val_loss: 0.6085 - val_acc: 0.7863\n",
            "Epoch 10/20\n",
            "702/702 [==============================] - 258s 368ms/step - loss: 0.6452 - acc: 0.7681 - val_loss: 0.6424 - val_acc: 0.7667\n",
            "Epoch 11/20\n",
            "702/702 [==============================] - 254s 362ms/step - loss: 0.6235 - acc: 0.7748 - val_loss: 0.5970 - val_acc: 0.7847\n",
            "Epoch 12/20\n",
            "702/702 [==============================] - 256s 364ms/step - loss: 0.6019 - acc: 0.7845 - val_loss: 0.5585 - val_acc: 0.8057\n",
            "Epoch 13/20\n",
            "702/702 [==============================] - 247s 352ms/step - loss: 0.5890 - acc: 0.7873 - val_loss: 0.5571 - val_acc: 0.8060\n",
            "Epoch 14/20\n",
            "702/702 [==============================] - 250s 357ms/step - loss: 0.5700 - acc: 0.7961 - val_loss: 0.5829 - val_acc: 0.7830\n",
            "Epoch 15/20\n",
            "702/702 [==============================] - 248s 354ms/step - loss: 0.5525 - acc: 0.8019 - val_loss: 0.5328 - val_acc: 0.8120\n",
            "Epoch 16/20\n",
            "702/702 [==============================] - 247s 351ms/step - loss: 0.5414 - acc: 0.8090 - val_loss: 0.5225 - val_acc: 0.8197\n",
            "Epoch 17/20\n",
            "702/702 [==============================] - 251s 357ms/step - loss: 0.5258 - acc: 0.8095 - val_loss: 0.5189 - val_acc: 0.8200\n",
            "Epoch 18/20\n",
            "702/702 [==============================] - 240s 341ms/step - loss: 0.5156 - acc: 0.8176 - val_loss: 0.5657 - val_acc: 0.7947\n",
            "Epoch 19/20\n",
            "702/702 [==============================] - 239s 340ms/step - loss: 0.5049 - acc: 0.8206 - val_loss: 0.4979 - val_acc: 0.8263\n",
            "Epoch 20/20\n",
            "702/702 [==============================] - 238s 339ms/step - loss: 0.4948 - acc: 0.8206 - val_loss: 0.4932 - val_acc: 0.8267\n"
          ]
        }
      ],
      "source": [
        "history3 = model3.fit(\n",
        " train_generator,\n",
        " epochs=20,\n",
        " validation_data=validation_generator,\n",
        " callbacks=my_callbacks3)"
      ]
    },
    {
      "cell_type": "markdown",
      "metadata": {
        "id": "-CCnhMbWSrw2"
      },
      "source": [
        "В отличии от предыдущих примеров, нейронная сеть полность прошла все 20 эпох и ее максимальный результат составил 82,67%, что лучше чем в предыдущей нейронной сети, но хуже чем в первом варианте. В данной нейронной сети процесс обучения происходил плавнее чем в предыдущей архитектуре. Аналогично графики представлены и сохранена модель."
      ]
    },
    {
      "cell_type": "code",
      "execution_count": null,
      "metadata": {
        "id": "aggO1td4LiVa"
      },
      "outputs": [],
      "source": [
        "model3.save('intel_images3.h5')"
      ]
    },
    {
      "cell_type": "code",
      "execution_count": null,
      "metadata": {
        "id": "cSxa3FjyLiVb",
        "outputId": "f45a75e5-608a-457c-903f-3a40e002b175"
      },
      "outputs": [
        {
          "data": {
            "image/png": "[encoded data removed]",
            "text/plain": [
              "<Figure size 432x288 with 1 Axes>"
            ]
          },
          "metadata": {
            "needs_background": "light"
          },
          "output_type": "display_data"
        },
        {
          "data": {
            "image/png": "[encoded data removed]",
            "text/plain": [
              "<Figure size 432x288 with 1 Axes>"
            ]
          },
          "metadata": {
            "needs_background": "light"
          },
          "output_type": "display_data"
        }
      ],
      "source": [
        "import matplotlib.pyplot as plt\n",
        "acc = history3.history['acc']\n",
        "val_acc = history3.history['val_acc']\n",
        "loss = history3.history['loss']\n",
        "val_loss = history3.history['val_loss']\n",
        "epochs = range(1, len(acc) + 1)\n",
        "plt.plot(epochs, acc, 'bo', label='Training acc')\n",
        "plt.plot(epochs, val_acc, 'b', label='Validation acc')\n",
        "plt.title('Training and validation accuracy')\n",
        "plt.legend()\n",
        "plt.figure()\n",
        "plt.plot(epochs, loss, 'bo', label='Training loss')\n",
        "plt.plot(epochs, val_loss, 'b', label='Validation loss')\n",
        "plt.title('Training and validation loss')\n",
        "plt.legend()\n",
        "plt.show()"
      ]
    },
    {
      "attachments": {},
      "cell_type": "markdown",
      "metadata": {},
      "source": [
        "Проведем проверку на тестовой выборке, для этого воспользуемся методом evaluate."
      ]
    },
    {
      "cell_type": "code",
      "execution_count": 1,
      "metadata": {
        "id": "VnPdnG0hLiVb"
      },
      "outputs": [],
      "source": [
        "import tensorflow\n",
        "from keras.preprocessing.image import ImageDataGenerator\n",
        "from keras.models import Sequential\n",
        "from keras.layers import Conv2D, MaxPooling2D\n",
        "from keras.layers import Activation, Dropout, Flatten, Dense\n",
        "from tensorflow.keras.callbacks import ModelCheckpoint\n",
        "from tensorflow.keras.models import load_model\n",
        "import pandas as pd\n",
        "from keras import optimizers\n",
        "from keras.utils import load_img"
      ]
    },
    {
      "attachments": {},
      "cell_type": "markdown",
      "metadata": {},
      "source": [
        "В качестве примера возьмем самую превую модель, которая дала наибольший результат. Для провекри воспользуемся 30 изображениями, которые относятся к 6 классам, по 5 изображений в каждом классе."
      ]
    },
    {
      "cell_type": "code",
      "execution_count": 12,
      "metadata": {},
      "outputs": [],
      "source": [
        "model=load_model('intel_images.h5')"
      ]
    },
    {
      "cell_type": "code",
      "execution_count": 13,
      "metadata": {},
      "outputs": [],
      "source": [
        "predict_dir = os.path.join('C:/Users/mi-sh/OneDrive/Desktop/images/test')\n",
        "img_width, img_height = 150, 150\n",
        "datagen = ImageDataGenerator(rescale=1. / 255)"
      ]
    },
    {
      "cell_type": "code",
      "execution_count": 14,
      "metadata": {},
      "outputs": [
        {
          "name": "stdout",
          "output_type": "stream",
          "text": [
            "Found 30 images belonging to 6 classes.\n"
          ]
        }
      ],
      "source": [
        "predict_generator = datagen.flow_from_directory(\n",
        "    predict_dir,\n",
        "    target_size=(150, 150),\n",
        "    batch_size=20,\n",
        "    )"
      ]
    },
    {
      "cell_type": "code",
      "execution_count": 16,
      "metadata": {},
      "outputs": [
        {
          "name": "stdout",
          "output_type": "stream",
          "text": [
            "2/2 [==============================] - 0s 48ms/step - loss: 1.3300 - acc: 0.7333\n"
          ]
        }
      ],
      "source": [
        "result = model.evaluate(predict_generator)"
      ]
    },
    {
      "attachments": {},
      "cell_type": "markdown",
      "metadata": {},
      "source": [
        "Таким образом, наша модель дала на тестовой выборки точность в 73,3%, что ниже чем на валидационной првоерке.\n",
        "\n"
      ]
    }
  ],
  "metadata": {
    "colab": {
      "provenance": []
    },
    "kernelspec": {
      "display_name": "Python 3.10.4 64-bit",
      "language": "python",
      "name": "python3"
    },
    "language_info": {
      "codemirror_mode": {
        "name": "ipython",
        "version": 3
      },
      "file_extension": ".py",
      "mimetype": "text/x-python",
      "name": "python",
      "nbconvert_exporter": "python",
      "pygments_lexer": "ipython3",
      "version": "3.10.4"
    },
    "vscode": {
      "interpreter": {
        "hash": "45181bf35a62443b9385974df6fb9c881656510a26d3d72ea37359275da11e5c"
      }
    }
  },
  "nbformat": 4,
  "nbformat_minor": 0
}
