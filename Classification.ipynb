{
  "nbformat": 4,
  "nbformat_minor": 0,
  "metadata": {
    "colab": {
      "provenance": []
    },
    "kernelspec": {
      "name": "python3",
      "display_name": "Python 3"
    },
    "language_info": {
      "name": "python"
    }
  },
  "cells": [
    {
      "cell_type": "markdown",
      "source": [
        "Описание данных:\n",
        "\n",
        "В данной лабораторной работе представлены данные по диабету среди коренных жительниц США. В данном датасете представлены следующие признаки:\n",
        "\n",
        "\n",
        "1.   Количестов беременностей\n",
        "2.   Глюкоза\n",
        "3.   Кровяное давление\n",
        "4.   Толщина кожи\n",
        "5.   Инсулин\n",
        "6.   BMI\n",
        "7.   Diabetes Pedigree Function\n",
        "8.   Возраст\n",
        "9.   Исход\n",
        "\n",
        "Все признаки, кроме исхода, являются вещественными, а исход является бинарным признаком, где 1 - больной, а 0 - здоровый пациент.\n",
        "\n",
        "Выполнение работы:\n",
        "\n",
        "Сначала подключаемся к облачному хранилищу для работы с файлом и подключаем все необходимые библиотеки."
      ],
      "metadata": {
        "id": "OIvo6RsLfFOt"
      }
    },
    {
      "cell_type": "code",
      "execution_count": null,
      "metadata": {
        "colab": {
          "base_uri": "https://localhost:8080/"
        },
        "id": "emfRy61Ke1wK",
        "outputId": "735455d3-383b-414e-c07b-35bbaa5f0473"
      },
      "outputs": [
        {
          "output_type": "stream",
          "name": "stdout",
          "text": [
            "Mounted at /content/gdrive\n"
          ]
        }
      ],
      "source": [
        "from google.colab import drive \n",
        "drive.mount('/content/gdrive') "
      ]
    },
    {
      "cell_type": "code",
      "source": [
        "import numpy as np\n",
        "import pandas as pd\n",
        "import matplotlib.pyplot as plt\n",
        "from sklearn.model_selection import train_test_split, GridSearchCV\n",
        "plt.style.use('ggplot')\n",
        "from sklearn import datasets, neighbors\n",
        "from mlxtend.plotting import plot_decision_regions\n",
        "from sklearn.metrics import classification_report\n",
        "import pandas as pd\n",
        "import matplotlib.pyplot as plt\n",
        "from matplotlib.pylab import rc, plot\n",
        "import seaborn as sns\n",
        "from sklearn.preprocessing import LabelEncoder, OneHotEncoder\n",
        "from sklearn.model_selection import cross_val_score\n",
        "from sklearn.linear_model import LogisticRegression\n",
        "from sklearn.ensemble import RandomForestClassifier, GradientBoostingClassifier\n",
        "from sklearn.metrics import precision_recall_curve, classification_report, confusion_matrix, roc_curve, recall_score, precision_score, accuracy_score, f1_score, roc_auc_score\n",
        "from sklearn.model_selection import train_test_split\n",
        "import itertools\n",
        "from collections import defaultdict\n",
        "np.random.seed(5)\n",
        "\n",
        "DiabetSet = pd.read_csv(\"/content/gdrive/MyDrive/Colab Notebooks/diabetes (1).csv\")\n",
        "DiabetSet.head()"
      ],
      "metadata": {
        "colab": {
          "base_uri": "https://localhost:8080/",
          "height": 206
        },
        "id": "ksanSBbRfEFM",
        "outputId": "60a1b70d-11e1-43d9-d782-8f751640439d"
      },
      "execution_count": null,
      "outputs": [
        {
          "output_type": "execute_result",
          "data": {
            "text/plain": [
              "   Pregnancies  Glucose  BloodPressure  SkinThickness  Insulin   BMI  \\\n",
              "0            6      148             72             35        0  33.6   \n",
              "1            1       85             66             29        0  26.6   \n",
              "2            8      183             64              0        0  23.3   \n",
              "3            1       89             66             23       94  28.1   \n",
              "4            0      137             40             35      168  43.1   \n",
              "\n",
              "   DiabetesPedigreeFunction  Age  Outcome  \n",
              "0                     0.627   50        1  \n",
              "1                     0.351   31        0  \n",
              "2                     0.672   32        1  \n",
              "3                     0.167   21        0  \n",
              "4                     2.288   33        1  "
            ],
            "text/html": [
              "\n",
              "  <div id=\"df-205ef7f2-433f-4c16-83cf-b994abb884f3\">\n",
              "    <div class=\"colab-df-container\">\n",
              "      <div>\n",
              "<style scoped>\n",
              "    .dataframe tbody tr th:only-of-type {\n",
              "        vertical-align: middle;\n",
              "    }\n",
              "\n",
              "    .dataframe tbody tr th {\n",
              "        vertical-align: top;\n",
              "    }\n",
              "\n",
              "    .dataframe thead th {\n",
              "        text-align: right;\n",
              "    }\n",
              "</style>\n",
              "<table border=\"1\" class=\"dataframe\">\n",
              "  <thead>\n",
              "    <tr style=\"text-align: right;\">\n",
              "      <th></th>\n",
              "      <th>Pregnancies</th>\n",
              "      <th>Glucose</th>\n",
              "      <th>BloodPressure</th>\n",
              "      <th>SkinThickness</th>\n",
              "      <th>Insulin</th>\n",
              "      <th>BMI</th>\n",
              "      <th>DiabetesPedigreeFunction</th>\n",
              "      <th>Age</th>\n",
              "      <th>Outcome</th>\n",
              "    </tr>\n",
              "  </thead>\n",
              "  <tbody>\n",
              "    <tr>\n",
              "      <th>0</th>\n",
              "      <td>6</td>\n",
              "      <td>148</td>\n",
              "      <td>72</td>\n",
              "      <td>35</td>\n",
              "      <td>0</td>\n",
              "      <td>33.6</td>\n",
              "      <td>0.627</td>\n",
              "      <td>50</td>\n",
              "      <td>1</td>\n",
              "    </tr>\n",
              "    <tr>\n",
              "      <th>1</th>\n",
              "      <td>1</td>\n",
              "      <td>85</td>\n",
              "      <td>66</td>\n",
              "      <td>29</td>\n",
              "      <td>0</td>\n",
              "      <td>26.6</td>\n",
              "      <td>0.351</td>\n",
              "      <td>31</td>\n",
              "      <td>0</td>\n",
              "    </tr>\n",
              "    <tr>\n",
              "      <th>2</th>\n",
              "      <td>8</td>\n",
              "      <td>183</td>\n",
              "      <td>64</td>\n",
              "      <td>0</td>\n",
              "      <td>0</td>\n",
              "      <td>23.3</td>\n",
              "      <td>0.672</td>\n",
              "      <td>32</td>\n",
              "      <td>1</td>\n",
              "    </tr>\n",
              "    <tr>\n",
              "      <th>3</th>\n",
              "      <td>1</td>\n",
              "      <td>89</td>\n",
              "      <td>66</td>\n",
              "      <td>23</td>\n",
              "      <td>94</td>\n",
              "      <td>28.1</td>\n",
              "      <td>0.167</td>\n",
              "      <td>21</td>\n",
              "      <td>0</td>\n",
              "    </tr>\n",
              "    <tr>\n",
              "      <th>4</th>\n",
              "      <td>0</td>\n",
              "      <td>137</td>\n",
              "      <td>40</td>\n",
              "      <td>35</td>\n",
              "      <td>168</td>\n",
              "      <td>43.1</td>\n",
              "      <td>2.288</td>\n",
              "      <td>33</td>\n",
              "      <td>1</td>\n",
              "    </tr>\n",
              "  </tbody>\n",
              "</table>\n",
              "</div>\n",
              "      <button class=\"colab-df-convert\" onclick=\"convertToInteractive('df-205ef7f2-433f-4c16-83cf-b994abb884f3')\"\n",
              "              title=\"Convert this dataframe to an interactive table.\"\n",
              "              style=\"display:none;\">\n",
              "        \n",
              "  <svg xmlns=\"http://www.w3.org/2000/svg\" height=\"24px\"viewBox=\"0 0 24 24\"\n",
              "       width=\"24px\">\n",
              "    <path d=\"M0 0h24v24H0V0z\" fill=\"none\"/>\n",
              "    <path d=\"M18.56 5.44l.94 2.06.94-2.06 2.06-.94-2.06-.94-.94-2.06-.94 2.06-2.06.94zm-11 1L8.5 8.5l.94-2.06 2.06-.94-2.06-.94L8.5 2.5l-.94 2.06-2.06.94zm10 10l.94 2.06.94-2.06 2.06-.94-2.06-.94-.94-2.06-.94 2.06-2.06.94z\"/><path d=\"M17.41 7.96l-1.37-1.37c-.4-.4-.92-.59-1.43-.59-.52 0-1.04.2-1.43.59L10.3 9.45l-7.72 7.72c-.78.78-.78 2.05 0 2.83L4 21.41c.39.39.9.59 1.41.59.51 0 1.02-.2 1.41-.59l7.78-7.78 2.81-2.81c.8-.78.8-2.07 0-2.86zM5.41 20L4 18.59l7.72-7.72 1.47 1.35L5.41 20z\"/>\n",
              "  </svg>\n",
              "      </button>\n",
              "      \n",
              "  <style>\n",
              "    .colab-df-container {\n",
              "      display:flex;\n",
              "      flex-wrap:wrap;\n",
              "      gap: 12px;\n",
              "    }\n",
              "\n",
              "    .colab-df-convert {\n",
              "      background-color: #E8F0FE;\n",
              "      border: none;\n",
              "      border-radius: 50%;\n",
              "      cursor: pointer;\n",
              "      display: none;\n",
              "      fill: #1967D2;\n",
              "      height: 32px;\n",
              "      padding: 0 0 0 0;\n",
              "      width: 32px;\n",
              "    }\n",
              "\n",
              "    .colab-df-convert:hover {\n",
              "      background-color: #E2EBFA;\n",
              "      box-shadow: 0px 1px 2px rgba(60, 64, 67, 0.3), 0px 1px 3px 1px rgba(60, 64, 67, 0.15);\n",
              "      fill: #174EA6;\n",
              "    }\n",
              "\n",
              "    [theme=dark] .colab-df-convert {\n",
              "      background-color: #3B4455;\n",
              "      fill: #D2E3FC;\n",
              "    }\n",
              "\n",
              "    [theme=dark] .colab-df-convert:hover {\n",
              "      background-color: #434B5C;\n",
              "      box-shadow: 0px 1px 3px 1px rgba(0, 0, 0, 0.15);\n",
              "      filter: drop-shadow(0px 1px 2px rgba(0, 0, 0, 0.3));\n",
              "      fill: #FFFFFF;\n",
              "    }\n",
              "  </style>\n",
              "\n",
              "      <script>\n",
              "        const buttonEl =\n",
              "          document.querySelector('#df-205ef7f2-433f-4c16-83cf-b994abb884f3 button.colab-df-convert');\n",
              "        buttonEl.style.display =\n",
              "          google.colab.kernel.accessAllowed ? 'block' : 'none';\n",
              "\n",
              "        async function convertToInteractive(key) {\n",
              "          const element = document.querySelector('#df-205ef7f2-433f-4c16-83cf-b994abb884f3');\n",
              "          const dataTable =\n",
              "            await google.colab.kernel.invokeFunction('convertToInteractive',\n",
              "                                                     [key], {});\n",
              "          if (!dataTable) return;\n",
              "\n",
              "          const docLinkHtml = 'Like what you see? Visit the ' +\n",
              "            '<a target=\"_blank\" href=https://colab.research.google.com/notebooks/data_table.ipynb>data table notebook</a>'\n",
              "            + ' to learn more about interactive tables.';\n",
              "          element.innerHTML = '';\n",
              "          dataTable['output_type'] = 'display_data';\n",
              "          await google.colab.output.renderOutput(dataTable, element);\n",
              "          const docLink = document.createElement('div');\n",
              "          docLink.innerHTML = docLinkHtml;\n",
              "          element.appendChild(docLink);\n",
              "        }\n",
              "      </script>\n",
              "    </div>\n",
              "  </div>\n",
              "  "
            ]
          },
          "metadata": {},
          "execution_count": 2
        }
      ]
    },
    {
      "cell_type": "markdown",
      "source": [
        "Изменим тип данных для больных с числового формата на категориальный, а также создадим функцию для вывода матрицы ошибок"
      ],
      "metadata": {
        "id": "ZVuf0YzifUyf"
      }
    },
    {
      "cell_type": "code",
      "source": [
        "def plot_confusion_matrix(cm, classes,\n",
        "                          normalize=False,\n",
        "                          title='Confusion matrix',\n",
        "                          cmap=plt.cm.Blues):\n",
        "    \"\"\"\n",
        "    This function prints and plots the confusion matrix.\n",
        "    Normalization can be applied by setting `normalize=True`.\n",
        "    \"\"\"\n",
        "    plt.imshow(cm, interpolation='nearest', cmap=cmap)\n",
        "    plt.title(title)\n",
        "    plt.colorbar()\n",
        "    tick_marks = np.arange(len(classes))\n",
        "    plt.xticks(tick_marks, classes, rotation=45)\n",
        "    plt.yticks(tick_marks, classes)\n",
        "\n",
        "    if normalize:\n",
        "        cm = cm.astype('float') / cm.sum(axis=1)[:, np.newaxis]\n",
        "        print(\"Normalized confusion matrix\")\n",
        "    else:\n",
        "        print('Confusion matrix, without normalization')\n",
        "\n",
        "    print(cm)\n",
        "\n",
        "    thresh = cm.max() / 2.\n",
        "    for i, j in itertools.product(range(cm.shape[0]), range(cm.shape[1])):\n",
        "        plt.text(j, i, cm[i, j],\n",
        "                 horizontalalignment=\"center\",\n",
        "                 color=\"white\" if cm[i, j] > thresh else \"black\")\n",
        "\n",
        "    plt.tight_layout()\n",
        "    plt.ylabel('True label')\n",
        "    plt.xlabel('Predicted label')\n"
      ],
      "metadata": {
        "id": "NSQIi8H2J8Kh"
      },
      "execution_count": null,
      "outputs": []
    },
    {
      "cell_type": "markdown",
      "source": [
        "Создадим функцию для вывода необходимых метрик"
      ],
      "metadata": {
        "id": "Fa41l2mS3b-P"
      }
    },
    {
      "cell_type": "code",
      "source": [
        "def some_metrics(y_test, X_pred):\n",
        "    accuracy = accuracy_score(y_test, X_pred)\n",
        "    precision = precision_score(y_test, X_pred)\n",
        "    recall = recall_score(y_test, X_pred)\n",
        "    f1 = f1_score(y_test, X_pred)\n",
        "    roc_auc = roc_auc_score(y_test, X_pred)\n",
        "    return [accuracy, precision, recall, f1, roc_auc]\n",
        "     \n"
      ],
      "metadata": {
        "id": "B0KSUOy2Rcyt"
      },
      "execution_count": null,
      "outputs": []
    },
    {
      "cell_type": "code",
      "source": [
        "DiabetSet = DiabetSet.astype({'Outcome': 'category'})"
      ],
      "metadata": {
        "id": "nrFCw4m7fZX3"
      },
      "execution_count": null,
      "outputs": []
    },
    {
      "cell_type": "markdown",
      "source": [
        "Рассмотрим показатели, которые входят в данный дата-сет. Имеются 1 качественная переменная - Outcome, остальные 8 - Pregnancies, Glucose, BloodPressure,\tSkinThickness,\tInsulin, BMI, DiabetesPedigreeFunction, Age - количественные"
      ],
      "metadata": {
        "id": "27mf8ZIhgPNL"
      }
    },
    {
      "cell_type": "code",
      "source": [
        "DiabetSet.columns"
      ],
      "metadata": {
        "colab": {
          "base_uri": "https://localhost:8080/"
        },
        "id": "vN17E4SagPlz",
        "outputId": "8fc34ece-4ffa-457e-8627-29ffaad2bc2e"
      },
      "execution_count": null,
      "outputs": [
        {
          "output_type": "execute_result",
          "data": {
            "text/plain": [
              "Index(['Pregnancies', 'Glucose', 'BloodPressure', 'SkinThickness', 'Insulin',\n",
              "       'BMI', 'DiabetesPedigreeFunction', 'Age', 'Outcome'],\n",
              "      dtype='object')"
            ]
          },
          "metadata": {},
          "execution_count": 6
        }
      ]
    },
    {
      "cell_type": "markdown",
      "source": [
        "Далее с помощью методы dtype определяем типы данных, которые представлены в данной таблице. В данном случае типы данных это int64 и float64\n"
      ],
      "metadata": {
        "id": "qzx-utrXxLZs"
      }
    },
    {
      "cell_type": "code",
      "source": [
        "DiabetSet.dtypes"
      ],
      "metadata": {
        "id": "Si__IBLLsgpf",
        "colab": {
          "base_uri": "https://localhost:8080/"
        },
        "outputId": "8b74af10-e683-46df-b355-b1b6335616f1"
      },
      "execution_count": null,
      "outputs": [
        {
          "output_type": "execute_result",
          "data": {
            "text/plain": [
              "Pregnancies                    int64\n",
              "Glucose                        int64\n",
              "BloodPressure                  int64\n",
              "SkinThickness                  int64\n",
              "Insulin                        int64\n",
              "BMI                          float64\n",
              "DiabetesPedigreeFunction     float64\n",
              "Age                            int64\n",
              "Outcome                     category\n",
              "dtype: object"
            ]
          },
          "metadata": {},
          "execution_count": 7
        }
      ]
    },
    {
      "cell_type": "markdown",
      "source": [
        "Для более коректного сравнения произведем замену нулевых значений на среднее, на основании предыдущей группировки по исходу, данная замена позволит более четко проследить зависимость и впоследствии построить какую-либо модель."
      ],
      "metadata": {
        "id": "yZgegH0nHa8f"
      }
    },
    {
      "cell_type": "code",
      "source": [
        "Indexes = ['Pregnancies', 'Glucose', 'BloodPressure', 'SkinThickness', 'Insulin', 'BMI', 'DiabetesPedigreeFunction', 'Age']\n",
        "for line in range(len(DiabetSet)):\n",
        "  for col in range(1, len(DiabetSet.loc[line])-1):\n",
        "    if DiabetSet.loc[line, Indexes[col]] == 0:\n",
        "      DiabetSet.loc[line, Indexes[col]] = DiabetSet.groupby(['Outcome']).mean().loc[DiabetSet.loc[line, 'Outcome'], Indexes[col]]\n",
        "DiabetSet.head()"
      ],
      "metadata": {
        "id": "2942Xl78CO5-",
        "colab": {
          "base_uri": "https://localhost:8080/",
          "height": 206
        },
        "outputId": "89cedea7-024f-46c2-e572-946f4f4d532d"
      },
      "execution_count": null,
      "outputs": [
        {
          "output_type": "execute_result",
          "data": {
            "text/plain": [
              "   Pregnancies  Glucose  BloodPressure  SkinThickness     Insulin   BMI  \\\n",
              "0            6    148.0           72.0      35.000000  100.335821  33.6   \n",
              "1            1     85.0           66.0      29.000000   68.792000  26.6   \n",
              "2            8    183.0           64.0      22.164179  100.710208  23.3   \n",
              "3            1     89.0           66.0      23.000000   94.000000  28.1   \n",
              "4            0    137.0           40.0      35.000000  168.000000  43.1   \n",
              "\n",
              "   DiabetesPedigreeFunction  Age Outcome  \n",
              "0                     0.627   50       1  \n",
              "1                     0.351   31       0  \n",
              "2                     0.672   32       1  \n",
              "3                     0.167   21       0  \n",
              "4                     2.288   33       1  "
            ],
            "text/html": [
              "\n",
              "  <div id=\"df-4fa82a9b-edad-467b-8270-160192235138\">\n",
              "    <div class=\"colab-df-container\">\n",
              "      <div>\n",
              "<style scoped>\n",
              "    .dataframe tbody tr th:only-of-type {\n",
              "        vertical-align: middle;\n",
              "    }\n",
              "\n",
              "    .dataframe tbody tr th {\n",
              "        vertical-align: top;\n",
              "    }\n",
              "\n",
              "    .dataframe thead th {\n",
              "        text-align: right;\n",
              "    }\n",
              "</style>\n",
              "<table border=\"1\" class=\"dataframe\">\n",
              "  <thead>\n",
              "    <tr style=\"text-align: right;\">\n",
              "      <th></th>\n",
              "      <th>Pregnancies</th>\n",
              "      <th>Glucose</th>\n",
              "      <th>BloodPressure</th>\n",
              "      <th>SkinThickness</th>\n",
              "      <th>Insulin</th>\n",
              "      <th>BMI</th>\n",
              "      <th>DiabetesPedigreeFunction</th>\n",
              "      <th>Age</th>\n",
              "      <th>Outcome</th>\n",
              "    </tr>\n",
              "  </thead>\n",
              "  <tbody>\n",
              "    <tr>\n",
              "      <th>0</th>\n",
              "      <td>6</td>\n",
              "      <td>148.0</td>\n",
              "      <td>72.0</td>\n",
              "      <td>35.000000</td>\n",
              "      <td>100.335821</td>\n",
              "      <td>33.6</td>\n",
              "      <td>0.627</td>\n",
              "      <td>50</td>\n",
              "      <td>1</td>\n",
              "    </tr>\n",
              "    <tr>\n",
              "      <th>1</th>\n",
              "      <td>1</td>\n",
              "      <td>85.0</td>\n",
              "      <td>66.0</td>\n",
              "      <td>29.000000</td>\n",
              "      <td>68.792000</td>\n",
              "      <td>26.6</td>\n",
              "      <td>0.351</td>\n",
              "      <td>31</td>\n",
              "      <td>0</td>\n",
              "    </tr>\n",
              "    <tr>\n",
              "      <th>2</th>\n",
              "      <td>8</td>\n",
              "      <td>183.0</td>\n",
              "      <td>64.0</td>\n",
              "      <td>22.164179</td>\n",
              "      <td>100.710208</td>\n",
              "      <td>23.3</td>\n",
              "      <td>0.672</td>\n",
              "      <td>32</td>\n",
              "      <td>1</td>\n",
              "    </tr>\n",
              "    <tr>\n",
              "      <th>3</th>\n",
              "      <td>1</td>\n",
              "      <td>89.0</td>\n",
              "      <td>66.0</td>\n",
              "      <td>23.000000</td>\n",
              "      <td>94.000000</td>\n",
              "      <td>28.1</td>\n",
              "      <td>0.167</td>\n",
              "      <td>21</td>\n",
              "      <td>0</td>\n",
              "    </tr>\n",
              "    <tr>\n",
              "      <th>4</th>\n",
              "      <td>0</td>\n",
              "      <td>137.0</td>\n",
              "      <td>40.0</td>\n",
              "      <td>35.000000</td>\n",
              "      <td>168.000000</td>\n",
              "      <td>43.1</td>\n",
              "      <td>2.288</td>\n",
              "      <td>33</td>\n",
              "      <td>1</td>\n",
              "    </tr>\n",
              "  </tbody>\n",
              "</table>\n",
              "</div>\n",
              "      <button class=\"colab-df-convert\" onclick=\"convertToInteractive('df-4fa82a9b-edad-467b-8270-160192235138')\"\n",
              "              title=\"Convert this dataframe to an interactive table.\"\n",
              "              style=\"display:none;\">\n",
              "        \n",
              "  <svg xmlns=\"http://www.w3.org/2000/svg\" height=\"24px\"viewBox=\"0 0 24 24\"\n",
              "       width=\"24px\">\n",
              "    <path d=\"M0 0h24v24H0V0z\" fill=\"none\"/>\n",
              "    <path d=\"M18.56 5.44l.94 2.06.94-2.06 2.06-.94-2.06-.94-.94-2.06-.94 2.06-2.06.94zm-11 1L8.5 8.5l.94-2.06 2.06-.94-2.06-.94L8.5 2.5l-.94 2.06-2.06.94zm10 10l.94 2.06.94-2.06 2.06-.94-2.06-.94-.94-2.06-.94 2.06-2.06.94z\"/><path d=\"M17.41 7.96l-1.37-1.37c-.4-.4-.92-.59-1.43-.59-.52 0-1.04.2-1.43.59L10.3 9.45l-7.72 7.72c-.78.78-.78 2.05 0 2.83L4 21.41c.39.39.9.59 1.41.59.51 0 1.02-.2 1.41-.59l7.78-7.78 2.81-2.81c.8-.78.8-2.07 0-2.86zM5.41 20L4 18.59l7.72-7.72 1.47 1.35L5.41 20z\"/>\n",
              "  </svg>\n",
              "      </button>\n",
              "      \n",
              "  <style>\n",
              "    .colab-df-container {\n",
              "      display:flex;\n",
              "      flex-wrap:wrap;\n",
              "      gap: 12px;\n",
              "    }\n",
              "\n",
              "    .colab-df-convert {\n",
              "      background-color: #E8F0FE;\n",
              "      border: none;\n",
              "      border-radius: 50%;\n",
              "      cursor: pointer;\n",
              "      display: none;\n",
              "      fill: #1967D2;\n",
              "      height: 32px;\n",
              "      padding: 0 0 0 0;\n",
              "      width: 32px;\n",
              "    }\n",
              "\n",
              "    .colab-df-convert:hover {\n",
              "      background-color: #E2EBFA;\n",
              "      box-shadow: 0px 1px 2px rgba(60, 64, 67, 0.3), 0px 1px 3px 1px rgba(60, 64, 67, 0.15);\n",
              "      fill: #174EA6;\n",
              "    }\n",
              "\n",
              "    [theme=dark] .colab-df-convert {\n",
              "      background-color: #3B4455;\n",
              "      fill: #D2E3FC;\n",
              "    }\n",
              "\n",
              "    [theme=dark] .colab-df-convert:hover {\n",
              "      background-color: #434B5C;\n",
              "      box-shadow: 0px 1px 3px 1px rgba(0, 0, 0, 0.15);\n",
              "      filter: drop-shadow(0px 1px 2px rgba(0, 0, 0, 0.3));\n",
              "      fill: #FFFFFF;\n",
              "    }\n",
              "  </style>\n",
              "\n",
              "      <script>\n",
              "        const buttonEl =\n",
              "          document.querySelector('#df-4fa82a9b-edad-467b-8270-160192235138 button.colab-df-convert');\n",
              "        buttonEl.style.display =\n",
              "          google.colab.kernel.accessAllowed ? 'block' : 'none';\n",
              "\n",
              "        async function convertToInteractive(key) {\n",
              "          const element = document.querySelector('#df-4fa82a9b-edad-467b-8270-160192235138');\n",
              "          const dataTable =\n",
              "            await google.colab.kernel.invokeFunction('convertToInteractive',\n",
              "                                                     [key], {});\n",
              "          if (!dataTable) return;\n",
              "\n",
              "          const docLinkHtml = 'Like what you see? Visit the ' +\n",
              "            '<a target=\"_blank\" href=https://colab.research.google.com/notebooks/data_table.ipynb>data table notebook</a>'\n",
              "            + ' to learn more about interactive tables.';\n",
              "          element.innerHTML = '';\n",
              "          dataTable['output_type'] = 'display_data';\n",
              "          await google.colab.output.renderOutput(dataTable, element);\n",
              "          const docLink = document.createElement('div');\n",
              "          docLink.innerHTML = docLinkHtml;\n",
              "          element.appendChild(docLink);\n",
              "        }\n",
              "      </script>\n",
              "    </div>\n",
              "  </div>\n",
              "  "
            ]
          },
          "metadata": {},
          "execution_count": 8
        }
      ]
    },
    {
      "cell_type": "markdown",
      "source": [
        "Проверим корректность заполнения пропусков с помощью функции count."
      ],
      "metadata": {
        "id": "EHIyNz6bgx20"
      }
    },
    {
      "cell_type": "code",
      "source": [
        "DiabetSet.count(axis=0)"
      ],
      "metadata": {
        "id": "ayMjzzM2gtYk",
        "colab": {
          "base_uri": "https://localhost:8080/"
        },
        "outputId": "d76528b7-4fa5-4fa9-cfec-9938ae53277a"
      },
      "execution_count": null,
      "outputs": [
        {
          "output_type": "execute_result",
          "data": {
            "text/plain": [
              "Pregnancies                 768\n",
              "Glucose                     768\n",
              "BloodPressure               768\n",
              "SkinThickness               768\n",
              "Insulin                     768\n",
              "BMI                         768\n",
              "DiabetesPedigreeFunction    768\n",
              "Age                         768\n",
              "Outcome                     768\n",
              "dtype: int64"
            ]
          },
          "metadata": {},
          "execution_count": 9
        }
      ]
    },
    {
      "cell_type": "markdown",
      "source": [
        "Факт заболевания уже приведен к векторному значению [1,0] где:\n",
        "\n",
        "1 - Человек болен диабетом\n",
        "\n",
        "0 - Человек здоров"
      ],
      "metadata": {
        "id": "mnKK-kaihcDS"
      }
    },
    {
      "cell_type": "code",
      "source": [
        "DiabetSet['Outcome'].unique()"
      ],
      "metadata": {
        "id": "K_wCp5OWhSnw",
        "colab": {
          "base_uri": "https://localhost:8080/"
        },
        "outputId": "3992e123-1a16-44a8-f068-1504b4e6fead"
      },
      "execution_count": null,
      "outputs": [
        {
          "output_type": "execute_result",
          "data": {
            "text/plain": [
              "[1, 0]\n",
              "Categories (2, int64): [0, 1]"
            ]
          },
          "metadata": {},
          "execution_count": 10
        }
      ]
    },
    {
      "cell_type": "markdown",
      "source": [
        "Разделим данный дата сет на 2 разных списка:\n",
        "\n",
        "1) В первый группу войдуют все столбцы с вещественными перемеными\n",
        "\n",
        "2) Во вторую группу войдут категориальные перменные (В нашем случае факт заболевания)"
      ],
      "metadata": {
        "id": "nPUEcumFir2h"
      }
    },
    {
      "cell_type": "code",
      "source": [
        "categorical_columns = [c for c in DiabetSet.columns if DiabetSet[c].dtype.name == 'category']\n",
        "numerical_columns   = [c for c in DiabetSet.columns if DiabetSet[c].dtype.name != 'category']\n",
        "print(categorical_columns)\n",
        "print(numerical_columns)"
      ],
      "metadata": {
        "id": "JRn5O39diWi1",
        "colab": {
          "base_uri": "https://localhost:8080/"
        },
        "outputId": "5699c6df-d158-4a22-8d1e-0d80a82b1329"
      },
      "execution_count": null,
      "outputs": [
        {
          "output_type": "stream",
          "name": "stdout",
          "text": [
            "['Outcome']\n",
            "['Pregnancies', 'Glucose', 'BloodPressure', 'SkinThickness', 'Insulin', 'BMI', 'DiabetesPedigreeFunction', 'Age']\n"
          ]
        }
      ]
    },
    {
      "cell_type": "markdown",
      "source": [
        "Построим таблицу корреляции между количественными признаками чтобы определить наличие каких-либо взаимосвязей между элементами.\n",
        "Как видно из данной таблицы, значимая корреляция присутсвует между показателями SkinThickness/Insulin и SkinThickness/BMI."
      ],
      "metadata": {
        "id": "jkF1ZU1WjxQr"
      }
    },
    {
      "cell_type": "code",
      "source": [
        "DiabetSet.corr()"
      ],
      "metadata": {
        "id": "Tympg8KjjdVT",
        "colab": {
          "base_uri": "https://localhost:8080/",
          "height": 300
        },
        "outputId": "10f31211-ba07-48b1-95ae-618b236cf25b"
      },
      "execution_count": null,
      "outputs": [
        {
          "output_type": "execute_result",
          "data": {
            "text/plain": [
              "                          Pregnancies   Glucose  BloodPressure  SkinThickness  \\\n",
              "Pregnancies                  1.000000  0.129888       0.208932       0.043491   \n",
              "Glucose                      0.129888  1.000000       0.224223       0.201485   \n",
              "BloodPressure                0.208932  0.224223       1.000000       0.159172   \n",
              "SkinThickness                0.043491  0.201485       0.159172       1.000000   \n",
              "Insulin                      0.024033  0.457924       0.042504       0.225708   \n",
              "BMI                          0.024206  0.235649       0.285186       0.557636   \n",
              "DiabetesPedigreeFunction    -0.033523  0.138169      -0.001377       0.132475   \n",
              "Age                          0.544341  0.268599       0.325992       0.069591   \n",
              "\n",
              "                           Insulin       BMI  DiabetesPedigreeFunction  \\\n",
              "Pregnancies               0.024033  0.024206                 -0.033523   \n",
              "Glucose                   0.457924  0.235649                  0.138169   \n",
              "BloodPressure             0.042504  0.285186                 -0.001377   \n",
              "SkinThickness             0.225708  0.557636                  0.132475   \n",
              "Insulin                   1.000000  0.222288                  0.150209   \n",
              "BMI                       0.222288  1.000000                  0.152590   \n",
              "DiabetesPedigreeFunction  0.150209  0.152590                  1.000000   \n",
              "Age                       0.089379  0.027932                  0.033561   \n",
              "\n",
              "                               Age  \n",
              "Pregnancies               0.544341  \n",
              "Glucose                   0.268599  \n",
              "BloodPressure             0.325992  \n",
              "SkinThickness             0.069591  \n",
              "Insulin                   0.089379  \n",
              "BMI                       0.027932  \n",
              "DiabetesPedigreeFunction  0.033561  \n",
              "Age                       1.000000  "
            ],
            "text/html": [
              "\n",
              "  <div id=\"df-77cd1a0b-e640-427e-affd-7e3c3e1717e7\">\n",
              "    <div class=\"colab-df-container\">\n",
              "      <div>\n",
              "<style scoped>\n",
              "    .dataframe tbody tr th:only-of-type {\n",
              "        vertical-align: middle;\n",
              "    }\n",
              "\n",
              "    .dataframe tbody tr th {\n",
              "        vertical-align: top;\n",
              "    }\n",
              "\n",
              "    .dataframe thead th {\n",
              "        text-align: right;\n",
              "    }\n",
              "</style>\n",
              "<table border=\"1\" class=\"dataframe\">\n",
              "  <thead>\n",
              "    <tr style=\"text-align: right;\">\n",
              "      <th></th>\n",
              "      <th>Pregnancies</th>\n",
              "      <th>Glucose</th>\n",
              "      <th>BloodPressure</th>\n",
              "      <th>SkinThickness</th>\n",
              "      <th>Insulin</th>\n",
              "      <th>BMI</th>\n",
              "      <th>DiabetesPedigreeFunction</th>\n",
              "      <th>Age</th>\n",
              "    </tr>\n",
              "  </thead>\n",
              "  <tbody>\n",
              "    <tr>\n",
              "      <th>Pregnancies</th>\n",
              "      <td>1.000000</td>\n",
              "      <td>0.129888</td>\n",
              "      <td>0.208932</td>\n",
              "      <td>0.043491</td>\n",
              "      <td>0.024033</td>\n",
              "      <td>0.024206</td>\n",
              "      <td>-0.033523</td>\n",
              "      <td>0.544341</td>\n",
              "    </tr>\n",
              "    <tr>\n",
              "      <th>Glucose</th>\n",
              "      <td>0.129888</td>\n",
              "      <td>1.000000</td>\n",
              "      <td>0.224223</td>\n",
              "      <td>0.201485</td>\n",
              "      <td>0.457924</td>\n",
              "      <td>0.235649</td>\n",
              "      <td>0.138169</td>\n",
              "      <td>0.268599</td>\n",
              "    </tr>\n",
              "    <tr>\n",
              "      <th>BloodPressure</th>\n",
              "      <td>0.208932</td>\n",
              "      <td>0.224223</td>\n",
              "      <td>1.000000</td>\n",
              "      <td>0.159172</td>\n",
              "      <td>0.042504</td>\n",
              "      <td>0.285186</td>\n",
              "      <td>-0.001377</td>\n",
              "      <td>0.325992</td>\n",
              "    </tr>\n",
              "    <tr>\n",
              "      <th>SkinThickness</th>\n",
              "      <td>0.043491</td>\n",
              "      <td>0.201485</td>\n",
              "      <td>0.159172</td>\n",
              "      <td>1.000000</td>\n",
              "      <td>0.225708</td>\n",
              "      <td>0.557636</td>\n",
              "      <td>0.132475</td>\n",
              "      <td>0.069591</td>\n",
              "    </tr>\n",
              "    <tr>\n",
              "      <th>Insulin</th>\n",
              "      <td>0.024033</td>\n",
              "      <td>0.457924</td>\n",
              "      <td>0.042504</td>\n",
              "      <td>0.225708</td>\n",
              "      <td>1.000000</td>\n",
              "      <td>0.222288</td>\n",
              "      <td>0.150209</td>\n",
              "      <td>0.089379</td>\n",
              "    </tr>\n",
              "    <tr>\n",
              "      <th>BMI</th>\n",
              "      <td>0.024206</td>\n",
              "      <td>0.235649</td>\n",
              "      <td>0.285186</td>\n",
              "      <td>0.557636</td>\n",
              "      <td>0.222288</td>\n",
              "      <td>1.000000</td>\n",
              "      <td>0.152590</td>\n",
              "      <td>0.027932</td>\n",
              "    </tr>\n",
              "    <tr>\n",
              "      <th>DiabetesPedigreeFunction</th>\n",
              "      <td>-0.033523</td>\n",
              "      <td>0.138169</td>\n",
              "      <td>-0.001377</td>\n",
              "      <td>0.132475</td>\n",
              "      <td>0.150209</td>\n",
              "      <td>0.152590</td>\n",
              "      <td>1.000000</td>\n",
              "      <td>0.033561</td>\n",
              "    </tr>\n",
              "    <tr>\n",
              "      <th>Age</th>\n",
              "      <td>0.544341</td>\n",
              "      <td>0.268599</td>\n",
              "      <td>0.325992</td>\n",
              "      <td>0.069591</td>\n",
              "      <td>0.089379</td>\n",
              "      <td>0.027932</td>\n",
              "      <td>0.033561</td>\n",
              "      <td>1.000000</td>\n",
              "    </tr>\n",
              "  </tbody>\n",
              "</table>\n",
              "</div>\n",
              "      <button class=\"colab-df-convert\" onclick=\"convertToInteractive('df-77cd1a0b-e640-427e-affd-7e3c3e1717e7')\"\n",
              "              title=\"Convert this dataframe to an interactive table.\"\n",
              "              style=\"display:none;\">\n",
              "        \n",
              "  <svg xmlns=\"http://www.w3.org/2000/svg\" height=\"24px\"viewBox=\"0 0 24 24\"\n",
              "       width=\"24px\">\n",
              "    <path d=\"M0 0h24v24H0V0z\" fill=\"none\"/>\n",
              "    <path d=\"M18.56 5.44l.94 2.06.94-2.06 2.06-.94-2.06-.94-.94-2.06-.94 2.06-2.06.94zm-11 1L8.5 8.5l.94-2.06 2.06-.94-2.06-.94L8.5 2.5l-.94 2.06-2.06.94zm10 10l.94 2.06.94-2.06 2.06-.94-2.06-.94-.94-2.06-.94 2.06-2.06.94z\"/><path d=\"M17.41 7.96l-1.37-1.37c-.4-.4-.92-.59-1.43-.59-.52 0-1.04.2-1.43.59L10.3 9.45l-7.72 7.72c-.78.78-.78 2.05 0 2.83L4 21.41c.39.39.9.59 1.41.59.51 0 1.02-.2 1.41-.59l7.78-7.78 2.81-2.81c.8-.78.8-2.07 0-2.86zM5.41 20L4 18.59l7.72-7.72 1.47 1.35L5.41 20z\"/>\n",
              "  </svg>\n",
              "      </button>\n",
              "      \n",
              "  <style>\n",
              "    .colab-df-container {\n",
              "      display:flex;\n",
              "      flex-wrap:wrap;\n",
              "      gap: 12px;\n",
              "    }\n",
              "\n",
              "    .colab-df-convert {\n",
              "      background-color: #E8F0FE;\n",
              "      border: none;\n",
              "      border-radius: 50%;\n",
              "      cursor: pointer;\n",
              "      display: none;\n",
              "      fill: #1967D2;\n",
              "      height: 32px;\n",
              "      padding: 0 0 0 0;\n",
              "      width: 32px;\n",
              "    }\n",
              "\n",
              "    .colab-df-convert:hover {\n",
              "      background-color: #E2EBFA;\n",
              "      box-shadow: 0px 1px 2px rgba(60, 64, 67, 0.3), 0px 1px 3px 1px rgba(60, 64, 67, 0.15);\n",
              "      fill: #174EA6;\n",
              "    }\n",
              "\n",
              "    [theme=dark] .colab-df-convert {\n",
              "      background-color: #3B4455;\n",
              "      fill: #D2E3FC;\n",
              "    }\n",
              "\n",
              "    [theme=dark] .colab-df-convert:hover {\n",
              "      background-color: #434B5C;\n",
              "      box-shadow: 0px 1px 3px 1px rgba(0, 0, 0, 0.15);\n",
              "      filter: drop-shadow(0px 1px 2px rgba(0, 0, 0, 0.3));\n",
              "      fill: #FFFFFF;\n",
              "    }\n",
              "  </style>\n",
              "\n",
              "      <script>\n",
              "        const buttonEl =\n",
              "          document.querySelector('#df-77cd1a0b-e640-427e-affd-7e3c3e1717e7 button.colab-df-convert');\n",
              "        buttonEl.style.display =\n",
              "          google.colab.kernel.accessAllowed ? 'block' : 'none';\n",
              "\n",
              "        async function convertToInteractive(key) {\n",
              "          const element = document.querySelector('#df-77cd1a0b-e640-427e-affd-7e3c3e1717e7');\n",
              "          const dataTable =\n",
              "            await google.colab.kernel.invokeFunction('convertToInteractive',\n",
              "                                                     [key], {});\n",
              "          if (!dataTable) return;\n",
              "\n",
              "          const docLinkHtml = 'Like what you see? Visit the ' +\n",
              "            '<a target=\"_blank\" href=https://colab.research.google.com/notebooks/data_table.ipynb>data table notebook</a>'\n",
              "            + ' to learn more about interactive tables.';\n",
              "          element.innerHTML = '';\n",
              "          dataTable['output_type'] = 'display_data';\n",
              "          await google.colab.output.renderOutput(dataTable, element);\n",
              "          const docLink = document.createElement('div');\n",
              "          docLink.innerHTML = docLinkHtml;\n",
              "          element.appendChild(docLink);\n",
              "        }\n",
              "      </script>\n",
              "    </div>\n",
              "  </div>\n",
              "  "
            ]
          },
          "metadata": {},
          "execution_count": 12
        }
      ]
    },
    {
      "cell_type": "markdown",
      "source": [
        "Проведем нормализацию показателей для применения методов опорных векторов и метод ближайших соседей, которык чувствительны к масштабированию данных. Для этого вычтем из значений их среднее и поделим на стандартное отклонение."
      ],
      "metadata": {
        "id": "jJSoCviinhm7"
      }
    },
    {
      "cell_type": "code",
      "source": [
        "data_numerical = DiabetSet[numerical_columns]\n",
        "data_numerical = (data_numerical - data_numerical.mean()) / data_numerical.std()\n",
        "data_numerical.describe()"
      ],
      "metadata": {
        "id": "tMlNNecukQbp",
        "colab": {
          "base_uri": "https://localhost:8080/",
          "height": 300
        },
        "outputId": "675f4f69-6253-42c2-d2b9-c1ff3cc7d43e"
      },
      "execution_count": null,
      "outputs": [
        {
          "output_type": "execute_result",
          "data": {
            "text/plain": [
              "        Pregnancies       Glucose  BloodPressure  SkinThickness       Insulin  \\\n",
              "count  7.680000e+02  7.680000e+02   7.680000e+02   7.680000e+02  7.680000e+02   \n",
              "mean  -7.864080e-17 -3.376928e-16   2.035409e-16  -5.088522e-17  2.035409e-16   \n",
              "std    1.000000e+00  1.000000e+00   1.000000e+00   1.000000e+00  1.000000e+00   \n",
              "min   -1.141108e+00 -2.550568e+00  -3.992657e+00  -2.238573e+00 -1.282577e+00   \n",
              "25%   -8.443348e-01 -7.203752e-01  -6.888829e-01  -6.112570e-01 -5.365841e-01   \n",
              "50%   -2.507887e-01 -1.540824e-01  -2.812799e-02  -1.773060e-01 -2.790675e-01   \n",
              "75%    6.395305e-01  6.338033e-01   6.326269e-01   4.736206e-01  1.823267e-01   \n",
              "max    3.904034e+00  2.537860e+00   4.101590e+00   7.742300e+00  7.892365e+00   \n",
              "\n",
              "                BMI  DiabetesPedigreeFunction           Age  \n",
              "count  7.680000e+02              7.680000e+02  7.680000e+02  \n",
              "mean  -2.289835e-16              2.451743e-16  2.035409e-16  \n",
              "std    1.000000e+00              1.000000e+00  1.000000e+00  \n",
              "min   -2.070184e+00             -1.188778e+00 -1.040871e+00  \n",
              "25%   -7.183811e-01             -6.885198e-01 -7.857741e-01  \n",
              "50%   -5.701520e-02             -2.999328e-01 -3.606124e-01  \n",
              "75%    6.043507e-01              4.659233e-01  6.597757e-01  \n",
              "max    5.037682e+00              5.879733e+00  4.061069e+00  "
            ],
            "text/html": [
              "\n",
              "  <div id=\"df-29b98bfd-0ae3-44bb-82f1-8f9d3e09559c\">\n",
              "    <div class=\"colab-df-container\">\n",
              "      <div>\n",
              "<style scoped>\n",
              "    .dataframe tbody tr th:only-of-type {\n",
              "        vertical-align: middle;\n",
              "    }\n",
              "\n",
              "    .dataframe tbody tr th {\n",
              "        vertical-align: top;\n",
              "    }\n",
              "\n",
              "    .dataframe thead th {\n",
              "        text-align: right;\n",
              "    }\n",
              "</style>\n",
              "<table border=\"1\" class=\"dataframe\">\n",
              "  <thead>\n",
              "    <tr style=\"text-align: right;\">\n",
              "      <th></th>\n",
              "      <th>Pregnancies</th>\n",
              "      <th>Glucose</th>\n",
              "      <th>BloodPressure</th>\n",
              "      <th>SkinThickness</th>\n",
              "      <th>Insulin</th>\n",
              "      <th>BMI</th>\n",
              "      <th>DiabetesPedigreeFunction</th>\n",
              "      <th>Age</th>\n",
              "    </tr>\n",
              "  </thead>\n",
              "  <tbody>\n",
              "    <tr>\n",
              "      <th>count</th>\n",
              "      <td>7.680000e+02</td>\n",
              "      <td>7.680000e+02</td>\n",
              "      <td>7.680000e+02</td>\n",
              "      <td>7.680000e+02</td>\n",
              "      <td>7.680000e+02</td>\n",
              "      <td>7.680000e+02</td>\n",
              "      <td>7.680000e+02</td>\n",
              "      <td>7.680000e+02</td>\n",
              "    </tr>\n",
              "    <tr>\n",
              "      <th>mean</th>\n",
              "      <td>-7.864080e-17</td>\n",
              "      <td>-3.376928e-16</td>\n",
              "      <td>2.035409e-16</td>\n",
              "      <td>-5.088522e-17</td>\n",
              "      <td>2.035409e-16</td>\n",
              "      <td>-2.289835e-16</td>\n",
              "      <td>2.451743e-16</td>\n",
              "      <td>2.035409e-16</td>\n",
              "    </tr>\n",
              "    <tr>\n",
              "      <th>std</th>\n",
              "      <td>1.000000e+00</td>\n",
              "      <td>1.000000e+00</td>\n",
              "      <td>1.000000e+00</td>\n",
              "      <td>1.000000e+00</td>\n",
              "      <td>1.000000e+00</td>\n",
              "      <td>1.000000e+00</td>\n",
              "      <td>1.000000e+00</td>\n",
              "      <td>1.000000e+00</td>\n",
              "    </tr>\n",
              "    <tr>\n",
              "      <th>min</th>\n",
              "      <td>-1.141108e+00</td>\n",
              "      <td>-2.550568e+00</td>\n",
              "      <td>-3.992657e+00</td>\n",
              "      <td>-2.238573e+00</td>\n",
              "      <td>-1.282577e+00</td>\n",
              "      <td>-2.070184e+00</td>\n",
              "      <td>-1.188778e+00</td>\n",
              "      <td>-1.040871e+00</td>\n",
              "    </tr>\n",
              "    <tr>\n",
              "      <th>25%</th>\n",
              "      <td>-8.443348e-01</td>\n",
              "      <td>-7.203752e-01</td>\n",
              "      <td>-6.888829e-01</td>\n",
              "      <td>-6.112570e-01</td>\n",
              "      <td>-5.365841e-01</td>\n",
              "      <td>-7.183811e-01</td>\n",
              "      <td>-6.885198e-01</td>\n",
              "      <td>-7.857741e-01</td>\n",
              "    </tr>\n",
              "    <tr>\n",
              "      <th>50%</th>\n",
              "      <td>-2.507887e-01</td>\n",
              "      <td>-1.540824e-01</td>\n",
              "      <td>-2.812799e-02</td>\n",
              "      <td>-1.773060e-01</td>\n",
              "      <td>-2.790675e-01</td>\n",
              "      <td>-5.701520e-02</td>\n",
              "      <td>-2.999328e-01</td>\n",
              "      <td>-3.606124e-01</td>\n",
              "    </tr>\n",
              "    <tr>\n",
              "      <th>75%</th>\n",
              "      <td>6.395305e-01</td>\n",
              "      <td>6.338033e-01</td>\n",
              "      <td>6.326269e-01</td>\n",
              "      <td>4.736206e-01</td>\n",
              "      <td>1.823267e-01</td>\n",
              "      <td>6.043507e-01</td>\n",
              "      <td>4.659233e-01</td>\n",
              "      <td>6.597757e-01</td>\n",
              "    </tr>\n",
              "    <tr>\n",
              "      <th>max</th>\n",
              "      <td>3.904034e+00</td>\n",
              "      <td>2.537860e+00</td>\n",
              "      <td>4.101590e+00</td>\n",
              "      <td>7.742300e+00</td>\n",
              "      <td>7.892365e+00</td>\n",
              "      <td>5.037682e+00</td>\n",
              "      <td>5.879733e+00</td>\n",
              "      <td>4.061069e+00</td>\n",
              "    </tr>\n",
              "  </tbody>\n",
              "</table>\n",
              "</div>\n",
              "      <button class=\"colab-df-convert\" onclick=\"convertToInteractive('df-29b98bfd-0ae3-44bb-82f1-8f9d3e09559c')\"\n",
              "              title=\"Convert this dataframe to an interactive table.\"\n",
              "              style=\"display:none;\">\n",
              "        \n",
              "  <svg xmlns=\"http://www.w3.org/2000/svg\" height=\"24px\"viewBox=\"0 0 24 24\"\n",
              "       width=\"24px\">\n",
              "    <path d=\"M0 0h24v24H0V0z\" fill=\"none\"/>\n",
              "    <path d=\"M18.56 5.44l.94 2.06.94-2.06 2.06-.94-2.06-.94-.94-2.06-.94 2.06-2.06.94zm-11 1L8.5 8.5l.94-2.06 2.06-.94-2.06-.94L8.5 2.5l-.94 2.06-2.06.94zm10 10l.94 2.06.94-2.06 2.06-.94-2.06-.94-.94-2.06-.94 2.06-2.06.94z\"/><path d=\"M17.41 7.96l-1.37-1.37c-.4-.4-.92-.59-1.43-.59-.52 0-1.04.2-1.43.59L10.3 9.45l-7.72 7.72c-.78.78-.78 2.05 0 2.83L4 21.41c.39.39.9.59 1.41.59.51 0 1.02-.2 1.41-.59l7.78-7.78 2.81-2.81c.8-.78.8-2.07 0-2.86zM5.41 20L4 18.59l7.72-7.72 1.47 1.35L5.41 20z\"/>\n",
              "  </svg>\n",
              "      </button>\n",
              "      \n",
              "  <style>\n",
              "    .colab-df-container {\n",
              "      display:flex;\n",
              "      flex-wrap:wrap;\n",
              "      gap: 12px;\n",
              "    }\n",
              "\n",
              "    .colab-df-convert {\n",
              "      background-color: #E8F0FE;\n",
              "      border: none;\n",
              "      border-radius: 50%;\n",
              "      cursor: pointer;\n",
              "      display: none;\n",
              "      fill: #1967D2;\n",
              "      height: 32px;\n",
              "      padding: 0 0 0 0;\n",
              "      width: 32px;\n",
              "    }\n",
              "\n",
              "    .colab-df-convert:hover {\n",
              "      background-color: #E2EBFA;\n",
              "      box-shadow: 0px 1px 2px rgba(60, 64, 67, 0.3), 0px 1px 3px 1px rgba(60, 64, 67, 0.15);\n",
              "      fill: #174EA6;\n",
              "    }\n",
              "\n",
              "    [theme=dark] .colab-df-convert {\n",
              "      background-color: #3B4455;\n",
              "      fill: #D2E3FC;\n",
              "    }\n",
              "\n",
              "    [theme=dark] .colab-df-convert:hover {\n",
              "      background-color: #434B5C;\n",
              "      box-shadow: 0px 1px 3px 1px rgba(0, 0, 0, 0.15);\n",
              "      filter: drop-shadow(0px 1px 2px rgba(0, 0, 0, 0.3));\n",
              "      fill: #FFFFFF;\n",
              "    }\n",
              "  </style>\n",
              "\n",
              "      <script>\n",
              "        const buttonEl =\n",
              "          document.querySelector('#df-29b98bfd-0ae3-44bb-82f1-8f9d3e09559c button.colab-df-convert');\n",
              "        buttonEl.style.display =\n",
              "          google.colab.kernel.accessAllowed ? 'block' : 'none';\n",
              "\n",
              "        async function convertToInteractive(key) {\n",
              "          const element = document.querySelector('#df-29b98bfd-0ae3-44bb-82f1-8f9d3e09559c');\n",
              "          const dataTable =\n",
              "            await google.colab.kernel.invokeFunction('convertToInteractive',\n",
              "                                                     [key], {});\n",
              "          if (!dataTable) return;\n",
              "\n",
              "          const docLinkHtml = 'Like what you see? Visit the ' +\n",
              "            '<a target=\"_blank\" href=https://colab.research.google.com/notebooks/data_table.ipynb>data table notebook</a>'\n",
              "            + ' to learn more about interactive tables.';\n",
              "          element.innerHTML = '';\n",
              "          dataTable['output_type'] = 'display_data';\n",
              "          await google.colab.output.renderOutput(dataTable, element);\n",
              "          const docLink = document.createElement('div');\n",
              "          docLink.innerHTML = docLinkHtml;\n",
              "          element.appendChild(docLink);\n",
              "        }\n",
              "      </script>\n",
              "    </div>\n",
              "  </div>\n",
              "  "
            ]
          },
          "metadata": {},
          "execution_count": 13
        }
      ]
    },
    {
      "cell_type": "markdown",
      "source": [
        "Создадим новую таблицу, в которой объединим нормальзированные данные с категориальными."
      ],
      "metadata": {
        "id": "cJHfrFHsq0mu"
      }
    },
    {
      "cell_type": "code",
      "source": [
        "data = pd.concat((data_numerical, DiabetSet[categorical_columns]), axis=1)\n",
        "data"
      ],
      "metadata": {
        "id": "3iCV46yaqqEX",
        "colab": {
          "base_uri": "https://localhost:8080/",
          "height": 424
        },
        "outputId": "2ee18abd-b128-4f96-be92-aa98c703143c"
      },
      "execution_count": null,
      "outputs": [
        {
          "output_type": "execute_result",
          "data": {
            "text/plain": [
              "     Pregnancies   Glucose  BloodPressure  SkinThickness   Insulin       BMI  \\\n",
              "0       0.639530  0.863603      -0.028128       0.799084 -0.330502  0.168285   \n",
              "1      -0.844335 -1.204597      -0.523694       0.148157 -0.678354 -0.849201   \n",
              "2       1.233077  2.012603      -0.688883      -0.593446 -0.326374 -1.328873   \n",
              "3      -0.844335 -1.073282      -0.523694      -0.502769 -0.400371 -0.631168   \n",
              "4      -1.141108  0.502489      -2.671148       0.799084  0.415670  1.549159   \n",
              "..           ...       ...            ...            ...       ...       ...   \n",
              "763     1.826623 -0.679339       0.302249       2.209425  0.548001  0.066537   \n",
              "764    -0.547562  0.010060      -0.193317      -0.068818 -0.226184  0.633422   \n",
              "765     0.342757 -0.022768      -0.028128      -0.502769 -0.201875 -0.907343   \n",
              "766    -0.844335  0.141375      -1.019260       0.326722  0.406064 -0.340458   \n",
              "767    -0.844335 -0.941968      -0.193317       0.365133 -0.223763 -0.296851   \n",
              "\n",
              "     DiabetesPedigreeFunction       Age Outcome  \n",
              "0                    0.468187  1.425067       1  \n",
              "1                   -0.364823 -0.190548       0  \n",
              "2                    0.604004 -0.105515       1  \n",
              "3                   -0.920163 -1.040871       0  \n",
              "4                    5.481337 -0.020483       1  \n",
              "..                        ...       ...     ...  \n",
              "763                 -0.908090  2.530487       0  \n",
              "764                 -0.398023 -0.530677       0  \n",
              "765                 -0.684747 -0.275580       0  \n",
              "766                 -0.370859  1.169970       1  \n",
              "767                 -0.473476 -0.870806       0  \n",
              "\n",
              "[768 rows x 9 columns]"
            ],
            "text/html": [
              "\n",
              "  <div id=\"df-207a1ee8-7fc7-49d5-835f-97d805a4abb8\">\n",
              "    <div class=\"colab-df-container\">\n",
              "      <div>\n",
              "<style scoped>\n",
              "    .dataframe tbody tr th:only-of-type {\n",
              "        vertical-align: middle;\n",
              "    }\n",
              "\n",
              "    .dataframe tbody tr th {\n",
              "        vertical-align: top;\n",
              "    }\n",
              "\n",
              "    .dataframe thead th {\n",
              "        text-align: right;\n",
              "    }\n",
              "</style>\n",
              "<table border=\"1\" class=\"dataframe\">\n",
              "  <thead>\n",
              "    <tr style=\"text-align: right;\">\n",
              "      <th></th>\n",
              "      <th>Pregnancies</th>\n",
              "      <th>Glucose</th>\n",
              "      <th>BloodPressure</th>\n",
              "      <th>SkinThickness</th>\n",
              "      <th>Insulin</th>\n",
              "      <th>BMI</th>\n",
              "      <th>DiabetesPedigreeFunction</th>\n",
              "      <th>Age</th>\n",
              "      <th>Outcome</th>\n",
              "    </tr>\n",
              "  </thead>\n",
              "  <tbody>\n",
              "    <tr>\n",
              "      <th>0</th>\n",
              "      <td>0.639530</td>\n",
              "      <td>0.863603</td>\n",
              "      <td>-0.028128</td>\n",
              "      <td>0.799084</td>\n",
              "      <td>-0.330502</td>\n",
              "      <td>0.168285</td>\n",
              "      <td>0.468187</td>\n",
              "      <td>1.425067</td>\n",
              "      <td>1</td>\n",
              "    </tr>\n",
              "    <tr>\n",
              "      <th>1</th>\n",
              "      <td>-0.844335</td>\n",
              "      <td>-1.204597</td>\n",
              "      <td>-0.523694</td>\n",
              "      <td>0.148157</td>\n",
              "      <td>-0.678354</td>\n",
              "      <td>-0.849201</td>\n",
              "      <td>-0.364823</td>\n",
              "      <td>-0.190548</td>\n",
              "      <td>0</td>\n",
              "    </tr>\n",
              "    <tr>\n",
              "      <th>2</th>\n",
              "      <td>1.233077</td>\n",
              "      <td>2.012603</td>\n",
              "      <td>-0.688883</td>\n",
              "      <td>-0.593446</td>\n",
              "      <td>-0.326374</td>\n",
              "      <td>-1.328873</td>\n",
              "      <td>0.604004</td>\n",
              "      <td>-0.105515</td>\n",
              "      <td>1</td>\n",
              "    </tr>\n",
              "    <tr>\n",
              "      <th>3</th>\n",
              "      <td>-0.844335</td>\n",
              "      <td>-1.073282</td>\n",
              "      <td>-0.523694</td>\n",
              "      <td>-0.502769</td>\n",
              "      <td>-0.400371</td>\n",
              "      <td>-0.631168</td>\n",
              "      <td>-0.920163</td>\n",
              "      <td>-1.040871</td>\n",
              "      <td>0</td>\n",
              "    </tr>\n",
              "    <tr>\n",
              "      <th>4</th>\n",
              "      <td>-1.141108</td>\n",
              "      <td>0.502489</td>\n",
              "      <td>-2.671148</td>\n",
              "      <td>0.799084</td>\n",
              "      <td>0.415670</td>\n",
              "      <td>1.549159</td>\n",
              "      <td>5.481337</td>\n",
              "      <td>-0.020483</td>\n",
              "      <td>1</td>\n",
              "    </tr>\n",
              "    <tr>\n",
              "      <th>...</th>\n",
              "      <td>...</td>\n",
              "      <td>...</td>\n",
              "      <td>...</td>\n",
              "      <td>...</td>\n",
              "      <td>...</td>\n",
              "      <td>...</td>\n",
              "      <td>...</td>\n",
              "      <td>...</td>\n",
              "      <td>...</td>\n",
              "    </tr>\n",
              "    <tr>\n",
              "      <th>763</th>\n",
              "      <td>1.826623</td>\n",
              "      <td>-0.679339</td>\n",
              "      <td>0.302249</td>\n",
              "      <td>2.209425</td>\n",
              "      <td>0.548001</td>\n",
              "      <td>0.066537</td>\n",
              "      <td>-0.908090</td>\n",
              "      <td>2.530487</td>\n",
              "      <td>0</td>\n",
              "    </tr>\n",
              "    <tr>\n",
              "      <th>764</th>\n",
              "      <td>-0.547562</td>\n",
              "      <td>0.010060</td>\n",
              "      <td>-0.193317</td>\n",
              "      <td>-0.068818</td>\n",
              "      <td>-0.226184</td>\n",
              "      <td>0.633422</td>\n",
              "      <td>-0.398023</td>\n",
              "      <td>-0.530677</td>\n",
              "      <td>0</td>\n",
              "    </tr>\n",
              "    <tr>\n",
              "      <th>765</th>\n",
              "      <td>0.342757</td>\n",
              "      <td>-0.022768</td>\n",
              "      <td>-0.028128</td>\n",
              "      <td>-0.502769</td>\n",
              "      <td>-0.201875</td>\n",
              "      <td>-0.907343</td>\n",
              "      <td>-0.684747</td>\n",
              "      <td>-0.275580</td>\n",
              "      <td>0</td>\n",
              "    </tr>\n",
              "    <tr>\n",
              "      <th>766</th>\n",
              "      <td>-0.844335</td>\n",
              "      <td>0.141375</td>\n",
              "      <td>-1.019260</td>\n",
              "      <td>0.326722</td>\n",
              "      <td>0.406064</td>\n",
              "      <td>-0.340458</td>\n",
              "      <td>-0.370859</td>\n",
              "      <td>1.169970</td>\n",
              "      <td>1</td>\n",
              "    </tr>\n",
              "    <tr>\n",
              "      <th>767</th>\n",
              "      <td>-0.844335</td>\n",
              "      <td>-0.941968</td>\n",
              "      <td>-0.193317</td>\n",
              "      <td>0.365133</td>\n",
              "      <td>-0.223763</td>\n",
              "      <td>-0.296851</td>\n",
              "      <td>-0.473476</td>\n",
              "      <td>-0.870806</td>\n",
              "      <td>0</td>\n",
              "    </tr>\n",
              "  </tbody>\n",
              "</table>\n",
              "<p>768 rows × 9 columns</p>\n",
              "</div>\n",
              "      <button class=\"colab-df-convert\" onclick=\"convertToInteractive('df-207a1ee8-7fc7-49d5-835f-97d805a4abb8')\"\n",
              "              title=\"Convert this dataframe to an interactive table.\"\n",
              "              style=\"display:none;\">\n",
              "        \n",
              "  <svg xmlns=\"http://www.w3.org/2000/svg\" height=\"24px\"viewBox=\"0 0 24 24\"\n",
              "       width=\"24px\">\n",
              "    <path d=\"M0 0h24v24H0V0z\" fill=\"none\"/>\n",
              "    <path d=\"M18.56 5.44l.94 2.06.94-2.06 2.06-.94-2.06-.94-.94-2.06-.94 2.06-2.06.94zm-11 1L8.5 8.5l.94-2.06 2.06-.94-2.06-.94L8.5 2.5l-.94 2.06-2.06.94zm10 10l.94 2.06.94-2.06 2.06-.94-2.06-.94-.94-2.06-.94 2.06-2.06.94z\"/><path d=\"M17.41 7.96l-1.37-1.37c-.4-.4-.92-.59-1.43-.59-.52 0-1.04.2-1.43.59L10.3 9.45l-7.72 7.72c-.78.78-.78 2.05 0 2.83L4 21.41c.39.39.9.59 1.41.59.51 0 1.02-.2 1.41-.59l7.78-7.78 2.81-2.81c.8-.78.8-2.07 0-2.86zM5.41 20L4 18.59l7.72-7.72 1.47 1.35L5.41 20z\"/>\n",
              "  </svg>\n",
              "      </button>\n",
              "      \n",
              "  <style>\n",
              "    .colab-df-container {\n",
              "      display:flex;\n",
              "      flex-wrap:wrap;\n",
              "      gap: 12px;\n",
              "    }\n",
              "\n",
              "    .colab-df-convert {\n",
              "      background-color: #E8F0FE;\n",
              "      border: none;\n",
              "      border-radius: 50%;\n",
              "      cursor: pointer;\n",
              "      display: none;\n",
              "      fill: #1967D2;\n",
              "      height: 32px;\n",
              "      padding: 0 0 0 0;\n",
              "      width: 32px;\n",
              "    }\n",
              "\n",
              "    .colab-df-convert:hover {\n",
              "      background-color: #E2EBFA;\n",
              "      box-shadow: 0px 1px 2px rgba(60, 64, 67, 0.3), 0px 1px 3px 1px rgba(60, 64, 67, 0.15);\n",
              "      fill: #174EA6;\n",
              "    }\n",
              "\n",
              "    [theme=dark] .colab-df-convert {\n",
              "      background-color: #3B4455;\n",
              "      fill: #D2E3FC;\n",
              "    }\n",
              "\n",
              "    [theme=dark] .colab-df-convert:hover {\n",
              "      background-color: #434B5C;\n",
              "      box-shadow: 0px 1px 3px 1px rgba(0, 0, 0, 0.15);\n",
              "      filter: drop-shadow(0px 1px 2px rgba(0, 0, 0, 0.3));\n",
              "      fill: #FFFFFF;\n",
              "    }\n",
              "  </style>\n",
              "\n",
              "      <script>\n",
              "        const buttonEl =\n",
              "          document.querySelector('#df-207a1ee8-7fc7-49d5-835f-97d805a4abb8 button.colab-df-convert');\n",
              "        buttonEl.style.display =\n",
              "          google.colab.kernel.accessAllowed ? 'block' : 'none';\n",
              "\n",
              "        async function convertToInteractive(key) {\n",
              "          const element = document.querySelector('#df-207a1ee8-7fc7-49d5-835f-97d805a4abb8');\n",
              "          const dataTable =\n",
              "            await google.colab.kernel.invokeFunction('convertToInteractive',\n",
              "                                                     [key], {});\n",
              "          if (!dataTable) return;\n",
              "\n",
              "          const docLinkHtml = 'Like what you see? Visit the ' +\n",
              "            '<a target=\"_blank\" href=https://colab.research.google.com/notebooks/data_table.ipynb>data table notebook</a>'\n",
              "            + ' to learn more about interactive tables.';\n",
              "          element.innerHTML = '';\n",
              "          dataTable['output_type'] = 'display_data';\n",
              "          await google.colab.output.renderOutput(dataTable, element);\n",
              "          const docLink = document.createElement('div');\n",
              "          docLink.innerHTML = docLinkHtml;\n",
              "          element.appendChild(docLink);\n",
              "        }\n",
              "      </script>\n",
              "    </div>\n",
              "  </div>\n",
              "  "
            ]
          },
          "metadata": {},
          "execution_count": 14
        }
      ]
    },
    {
      "cell_type": "markdown",
      "source": [
        "Для удобства выделим матрицу объект-признак обозначим ее через Х, а результативный признак обозначим как у"
      ],
      "metadata": {
        "id": "PTpo_VuYrGag"
      }
    },
    {
      "cell_type": "code",
      "source": [
        "X = data.drop(('Outcome'), axis=1)\n",
        "y = data['Outcome']\n",
        "feature_names = X.columns"
      ],
      "metadata": {
        "id": "jTWneRVtrR-N"
      },
      "execution_count": null,
      "outputs": []
    },
    {
      "cell_type": "markdown",
      "source": [
        "Разобьем имеющиеся у нас данные на обучающую и тестовую выборки, для этого воспользуемся функцией train_test_split из модуля sklearn.model_selection и разобьем данные на обучающую/тестовую выборки в отношении 70%:30%"
      ],
      "metadata": {
        "id": "RdHHqTZLr1vB"
      }
    },
    {
      "cell_type": "code",
      "source": [
        "X_train, X_test, y_train, y_test = train_test_split(X, y, test_size = 0.3, random_state = 11)\n",
        "\n",
        "N_train, _ = X_train.shape \n",
        "N_test,  _ = X_test.shape \n",
        "print(N_train, N_test)"
      ],
      "metadata": {
        "id": "D_3inrG4sCIf",
        "colab": {
          "base_uri": "https://localhost:8080/"
        },
        "outputId": "7583cf95-d2fb-48de-a93e-c748acbc7b72"
      },
      "execution_count": null,
      "outputs": [
        {
          "output_type": "stream",
          "name": "stdout",
          "text": [
            "537 231\n"
          ]
        }
      ]
    },
    {
      "cell_type": "code",
      "source": [
        "result= defaultdict(str)"
      ],
      "metadata": {
        "id": "Q5UdgxaCO39Y"
      },
      "execution_count": null,
      "outputs": []
    },
    {
      "cell_type": "markdown",
      "source": [
        "После выполнения основных манипуляций с данными и разбиением выборки на тренировочную и тестовую, перейдем непосредственно к процессу обучения.\n",
        "\n",
        "Начнем с метода Knn или метода К ближайших соседей."
      ],
      "metadata": {
        "id": "t7fDX_6utb7A"
      }
    },
    {
      "cell_type": "code",
      "source": [
        "from sklearn.neighbors import KNeighborsClassifier\n",
        "\n",
        "knn = KNeighborsClassifier()\n",
        "knn.fit(X_train, y_train)"
      ],
      "metadata": {
        "id": "rrqpiyPZtsVF",
        "colab": {
          "base_uri": "https://localhost:8080/"
        },
        "outputId": "12422a37-5439-475e-9dd8-4eae3ebbb2fb"
      },
      "execution_count": null,
      "outputs": [
        {
          "output_type": "execute_result",
          "data": {
            "text/plain": [
              "KNeighborsClassifier()"
            ]
          },
          "metadata": {},
          "execution_count": 18
        }
      ]
    },
    {
      "cell_type": "code",
      "source": [
        "KNeighborsClassifier(algorithm='auto', leaf_size=30, metric='minkowski',\n",
        "           metric_params=None, n_neighbors=5, p=2, weights='uniform')"
      ],
      "metadata": {
        "id": "jy8HW-bBt5tZ",
        "colab": {
          "base_uri": "https://localhost:8080/"
        },
        "outputId": "cee68a39-4f44-4ff1-88ed-adb5c6c34cd6"
      },
      "execution_count": null,
      "outputs": [
        {
          "output_type": "execute_result",
          "data": {
            "text/plain": [
              "KNeighborsClassifier()"
            ]
          },
          "metadata": {},
          "execution_count": 19
        }
      ]
    },
    {
      "cell_type": "code",
      "source": [
        "y_train_predict = knn.predict(X_train)\n",
        "y_test_predict = knn.predict(X_test)\n",
        "\n",
        "cnf_matrix = confusion_matrix(y_test, knn.predict(X_test))\n",
        "\n",
        "metric = some_metrics(y_test, knn.predict(X_test))\n",
        "print(f\"Accuracy: {metric[0]}\\nPrecision: {metric[1]}\\nRecall {metric[2]}\\nF1: {metric[3]}\\nROC_AUC: {metric[4]}\")\n",
        "result['knn'] = metric\n",
        "\n",
        "plt.figure(figsize=(10, 8))\n",
        "plot_confusion_matrix(cnf_matrix, classes=['Non-churned', 'Churned'], title='Confusion matrix')\n",
        "plt.show()"
      ],
      "metadata": {
        "id": "a3wgbsDjuF-k",
        "colab": {
          "base_uri": "https://localhost:8080/",
          "height": 741
        },
        "outputId": "2e2a389a-a673-4be1-dbf9-3fb230914906"
      },
      "execution_count": null,
      "outputs": [
        {
          "output_type": "stream",
          "name": "stdout",
          "text": [
            "Accuracy: 0.7532467532467533\n",
            "Precision: 0.6582278481012658\n",
            "Recall 0.6341463414634146\n",
            "F1: 0.6459627329192545\n",
            "ROC_AUC: 0.7264691438860698\n",
            "Confusion matrix, without normalization\n",
            "[[122  27]\n",
            " [ 30  52]]\n"
          ]
        },
        {
          "output_type": "display_data",
          "data": {
            "text/plain": [
              "<Figure size 720x576 with 2 Axes>"
            ],
            "image/png": "[encoded data removed]"
          },
          "metadata": {}
        }
      ]
    },
    {
      "cell_type": "markdown",
      "source": [
        "В данном случае Accuracy составила 75,36%. Precision и Recall составили 65,82% и 63,41% соотвественно, F1 составила 64,59% а площадь под кривой 72,64%. В целом не самые лучшие показатели, в связи с этим попробуем откалибровать модель путем перебора разных k среди значений [1, 3, 5, 7, 10, 15, 20, 30, 40]"
      ],
      "metadata": {
        "id": "cf2zwWCIu3l8"
      }
    },
    {
      "cell_type": "code",
      "source": [
        "n_neighbors_array = [1, 3, 5, 7, 10, 15, 20, 30, 40]\n",
        "knn = KNeighborsClassifier()\n",
        "grid = GridSearchCV(knn, param_grid={'n_neighbors': n_neighbors_array})\n",
        "grid.fit(X_train, y_train)\n",
        "\n",
        "best_cv_err = grid.best_score_\n",
        "best_n_neighbors = grid.best_estimator_.n_neighbors\n",
        "print(best_cv_err, best_n_neighbors)"
      ],
      "metadata": {
        "colab": {
          "base_uri": "https://localhost:8080/"
        },
        "id": "rkqe1rP2vQ29",
        "outputId": "e791cba0-7004-40c7-c2ef-24c143c595a8"
      },
      "execution_count": null,
      "outputs": [
        {
          "output_type": "stream",
          "name": "stdout",
          "text": [
            "0.7653340256143994 40\n"
          ]
        }
      ]
    },
    {
      "cell_type": "markdown",
      "source": [
        "Данный метод нашел оптимальные значения k, равное 40, при этом ошибка при кросс проверке составила 76,53%, что ниже чем на тренировочной выборке"
      ],
      "metadata": {
        "id": "dzy8oTThv5nO"
      }
    },
    {
      "cell_type": "code",
      "source": [
        "knn = KNeighborsClassifier(n_neighbors=best_n_neighbors)\n",
        "knn.fit(X_train, y_train)\n",
        "\n",
        "cnf_matrix = confusion_matrix(y_test, knn.predict(X_test))\n",
        "\n",
        "metric = some_metrics(y_test, knn.predict(X_test))\n",
        "print(f\"Accuracy: {metric[0]}\\nPrecision: {metric[1]}\\nRecall {metric[2]}\\nF1: {metric[3]}\\nROC_AUC: {metric[4]}\")\n",
        "result['knn'] = metric\n",
        "\n",
        "plt.figure(figsize=(10, 8))\n",
        "plot_confusion_matrix(cnf_matrix, classes=['Non-churned', 'Churned'], title='Confusion matrix')\n",
        "plt.show()"
      ],
      "metadata": {
        "colab": {
          "base_uri": "https://localhost:8080/",
          "height": 741
        },
        "id": "7CEL1muovmgI",
        "outputId": "be2e3db3-dd0a-4687-d187-4499fe2c212b"
      },
      "execution_count": null,
      "outputs": [
        {
          "output_type": "stream",
          "name": "stdout",
          "text": [
            "Accuracy: 0.7965367965367965\n",
            "Precision: 0.7966101694915254\n",
            "Recall 0.573170731707317\n",
            "F1: 0.6666666666666666\n",
            "ROC_AUC: 0.7463169094778197\n",
            "Confusion matrix, without normalization\n",
            "[[137  12]\n",
            " [ 35  47]]\n"
          ]
        },
        {
          "output_type": "display_data",
          "data": {
            "text/plain": [
              "<Figure size 720x576 with 2 Axes>"
            ],
            "image/png": "[encoded data removed]"
          },
          "metadata": {}
        }
      ]
    },
    {
      "cell_type": "markdown",
      "source": [
        "После подбора оптимального значения k показатели немного улучшились. Так доля правильных ответов составила 79,65%, а точность и полнота соответственно 79,66% и 57,31%. F-мера составила 66,66%, а ROC_AUC 74.63%.\n",
        "\n",
        "В целом примение метода k ближайших соседей не дало удовлетворительных результатов на данном дата сете, по этому прибегнем к иным методикам."
      ],
      "metadata": {
        "id": "f45y9KvMv4bv"
      }
    },
    {
      "cell_type": "code",
      "source": [
        "from sklearn.svm import SVC\n",
        "svc = SVC()\n",
        "svc.fit(X_train, y_train)\n",
        "\n",
        "cnf_matrix = confusion_matrix(y_test, svc.predict(X_test))\n",
        "\n",
        "metric = some_metrics(y_test, svc.predict(X_test))\n",
        "print(f\"Accuracy: {metric[0]}\\nPrecision: {metric[1]}\\nRecall {metric[2]}\\nF1: {metric[3]}\\nROC_AUC: {metric[4]}\")\n",
        "result['svc'] = metric\n",
        "\n",
        "plt.figure(figsize=(10, 8))\n",
        "plot_confusion_matrix(cnf_matrix, classes=['Non-churned', 'Churned'], title='Confusion matrix')\n",
        "plt.show()"
      ],
      "metadata": {
        "colab": {
          "base_uri": "https://localhost:8080/",
          "height": 741
        },
        "id": "uz1Ag5TL0uKX",
        "outputId": "211f3021-effb-43c2-97f9-aa9784976c14"
      },
      "execution_count": null,
      "outputs": [
        {
          "output_type": "stream",
          "name": "stdout",
          "text": [
            "Accuracy: 0.8181818181818182\n",
            "Precision: 0.8125\n",
            "Recall 0.6341463414634146\n",
            "F1: 0.7123287671232876\n",
            "ROC_AUC: 0.7768047143558684\n",
            "Confusion matrix, without normalization\n",
            "[[137  12]\n",
            " [ 30  52]]\n"
          ]
        },
        {
          "output_type": "display_data",
          "data": {
            "text/plain": [
              "<Figure size 720x576 with 2 Axes>"
            ],
            "image/png": "[encoded data removed]"
          },
          "metadata": {}
        }
      ]
    },
    {
      "cell_type": "code",
      "source": [
        "print(y_train, y_train.dtype)"
      ],
      "metadata": {
        "id": "1IdaTYMWm2u8",
        "outputId": "14a5cdca-4dd2-4e16-aa15-3e4047dac018",
        "colab": {
          "base_uri": "https://localhost:8080/"
        }
      },
      "execution_count": null,
      "outputs": [
        {
          "output_type": "stream",
          "name": "stdout",
          "text": [
            "409    1\n",
            "63     0\n",
            "61     1\n",
            "405    0\n",
            "747    0\n",
            "      ..\n",
            "269    1\n",
            "337    1\n",
            "91     0\n",
            "80     0\n",
            "703    0\n",
            "Name: Outcome, Length: 537, dtype: category\n",
            "Categories (2, int64): [0, 1] category\n"
          ]
        }
      ]
    },
    {
      "cell_type": "markdown",
      "source": [
        "Воспользуемся методом опорных векторов. Данный метод выдает показатели лучше, чем на предыдущем методе. Так ошибка составила 81,81%, точность и полнотоа в свою очередь по 81,25% и 63,41%. F-мера 71,23%, ROC_AUC 77,68%. Данные результаты более удовлетворительные, чем на предыдущем методе, но попробуем рассчитать разные ядра для данного метода.\n",
        "\n",
        " Попробуем откалибровать модель путем применения разных ядер для данного метода."
      ],
      "metadata": {
        "id": "6ERI7Ay33s1v"
      }
    },
    {
      "cell_type": "markdown",
      "source": [
        "***Радиальное ядро***"
      ],
      "metadata": {
        "id": "_IlxFEFO4sU2"
      }
    },
    {
      "cell_type": "code",
      "source": [
        "C_array = np.logspace(-3, 3, num=7)\n",
        "gamma_array = np.logspace(-5, 2, num=8)\n",
        "svc = SVC(kernel='rbf')\n",
        "grid = GridSearchCV(svc, param_grid={'C': C_array, 'gamma': gamma_array})\n",
        "grid.fit(X_train, y_train)\n",
        "print('CV error    = ', 1 - grid.best_score_)\n",
        "print('best C      = ', grid.best_estimator_.C)\n",
        "print('best gamma  = ', grid.best_estimator_.gamma)"
      ],
      "metadata": {
        "colab": {
          "base_uri": "https://localhost:8080/"
        },
        "id": "Th8H9X334wOf",
        "outputId": "5a9cda67-1320-4be0-b308-f6f5f1790416"
      },
      "execution_count": null,
      "outputs": [
        {
          "output_type": "stream",
          "name": "stdout",
          "text": [
            "CV error    =  0.2085496711664937\n",
            "best C      =  100.0\n",
            "best gamma  =  0.01\n"
          ]
        }
      ]
    },
    {
      "cell_type": "code",
      "source": [
        "svc = SVC(kernel='rbf', C=grid.best_estimator_.C, gamma=grid.best_estimator_.gamma)\n",
        "svc.fit(X_train, y_train)\n",
        "\n",
        "cnf_matrix = confusion_matrix(y_test, svc.predict(X_test))\n",
        "\n",
        "metric = some_metrics(y_test, svc.predict(X_test))\n",
        "print(f\"Accuracy: {metric[0]}\\nPrecision: {metric[1]}\\nRecall {metric[2]}\\nF1: {metric[3]}\\nROC_AUC: {metric[4]}\")\n",
        "result['svcRad'] = metric\n",
        "\n",
        "plt.figure(figsize=(10, 8))\n",
        "plot_confusion_matrix(cnf_matrix, classes=['Non-churned', 'Churned'], title='Confusion matrix')\n",
        "plt.show()"
      ],
      "metadata": {
        "colab": {
          "base_uri": "https://localhost:8080/",
          "height": 741
        },
        "id": "8ud4BAQU4-Wx",
        "outputId": "0ab4ac69-f138-47f6-b082-59cb38d7c68c"
      },
      "execution_count": null,
      "outputs": [
        {
          "output_type": "stream",
          "name": "stdout",
          "text": [
            "Accuracy: 0.8181818181818182\n",
            "Precision: 0.7777777777777778\n",
            "Recall 0.6829268292682927\n",
            "F1: 0.7272727272727273\n",
            "ROC_AUC: 0.7877721394663613\n",
            "Confusion matrix, without normalization\n",
            "[[133  16]\n",
            " [ 26  56]]\n"
          ]
        },
        {
          "output_type": "display_data",
          "data": {
            "text/plain": [
              "<Figure size 720x576 with 2 Axes>"
            ],
            "image/png": "[encoded data removed]"
          },
          "metadata": {}
        }
      ]
    },
    {
      "cell_type": "markdown",
      "source": [
        "При использовании радиального ядра наблюдается незначительное улучшение ряда метрик, при этом точность ухудшается"
      ],
      "metadata": {
        "id": "fMm02OD-5lDP"
      }
    },
    {
      "cell_type": "markdown",
      "source": [
        "***Линейное ядро***"
      ],
      "metadata": {
        "id": "Lgl_Qk9s5zVM"
      }
    },
    {
      "cell_type": "code",
      "source": [
        "C_array = np.logspace(-3, 3, num=7)\n",
        "svc = SVC(kernel='linear')\n",
        "grid = GridSearchCV(svc, param_grid={'C': C_array})\n",
        "grid.fit(X_train, y_train)\n",
        "print('CV error    = ', 1 - grid.best_score_)\n",
        "print('best C      = ', grid.best_estimator_.C)"
      ],
      "metadata": {
        "colab": {
          "base_uri": "https://localhost:8080/"
        },
        "id": "E5jG4G7354YD",
        "outputId": "9db17987-173f-4401-ddba-3ba46dcd09c0"
      },
      "execution_count": null,
      "outputs": [
        {
          "output_type": "stream",
          "name": "stdout",
          "text": [
            "CV error    =  0.23283142956040148\n",
            "best C      =  0.01\n"
          ]
        }
      ]
    },
    {
      "cell_type": "code",
      "source": [
        "svc = SVC(kernel='linear', C=grid.best_estimator_.C)\n",
        "svc.fit(X_train, y_train)\n",
        "\n",
        "cnf_matrix = confusion_matrix(y_test, svc.predict(X_test))\n",
        "\n",
        "metric = some_metrics(y_test, svc.predict(X_test))\n",
        "print(f\"Accuracy: {metric[0]}\\nPrecision: {metric[1]}\\nRecall {metric[2]}\\nF1: {metric[3]}\\nROC_AUC: {metric[4]}\")\n",
        "result['svcLin'] = metric\n",
        "\n",
        "plt.figure(figsize=(10, 8))\n",
        "plot_confusion_matrix(cnf_matrix, classes=['Non-churned', 'Churned'], title='Confusion matrix')\n",
        "plt.show()"
      ],
      "metadata": {
        "colab": {
          "base_uri": "https://localhost:8080/",
          "height": 741
        },
        "id": "3TtRoOb66DHG",
        "outputId": "1d8d5e3d-c7ee-4263-d020-332667d6387a"
      },
      "execution_count": null,
      "outputs": [
        {
          "output_type": "stream",
          "name": "stdout",
          "text": [
            "Accuracy: 0.7662337662337663\n",
            "Precision: 0.7916666666666666\n",
            "Recall 0.4634146341463415\n",
            "F1: 0.5846153846153846\n",
            "ROC_AUC: 0.6981502700933049\n",
            "Confusion matrix, without normalization\n",
            "[[139  10]\n",
            " [ 44  38]]\n"
          ]
        },
        {
          "output_type": "display_data",
          "data": {
            "text/plain": [
              "<Figure size 720x576 with 2 Axes>"
            ],
            "image/png": "[encoded data removed]"
          },
          "metadata": {}
        }
      ]
    },
    {
      "cell_type": "markdown",
      "source": [
        "Линейное ядро показало ухудшение по всем показателям, в связи с чем в рассчет его брать не будем"
      ],
      "metadata": {
        "id": "mNaTbYmZ6n2B"
      }
    },
    {
      "cell_type": "markdown",
      "source": [
        "Перейдем к заключительному методу случайного леса, который строит ансамбль случайных деревьев, каждое из которых обучается на выборке, полученной из исходной с помощью процедуры изъятия с возвращением"
      ],
      "metadata": {
        "id": "omT7c_qBHOQH"
      }
    },
    {
      "cell_type": "code",
      "source": [
        "from sklearn import ensemble\n",
        "rf = ensemble.RandomForestClassifier(n_estimators=100, random_state=11)\n",
        "rf.fit(X_train, y_train)\n",
        "\n",
        "cnf_matrix = confusion_matrix(y_test, rf.predict(X_test))\n",
        "\n",
        "metric = some_metrics(y_test, rf.predict(X_test))\n",
        "print(f\"Accuracy: {metric[0]}\\nPrecision: {metric[1]}\\nRecall {metric[2]}\\nF1: {metric[3]}\\nROC_AUC: {metric[4]}\")\n",
        "result['rf'] = metric\n",
        "\n",
        "plt.figure(figsize=(10, 8))\n",
        "plot_confusion_matrix(cnf_matrix, classes=['Non-churned', 'Churned'], title='Confusion matrix')\n",
        "plt.show()"
      ],
      "metadata": {
        "colab": {
          "base_uri": "https://localhost:8080/",
          "height": 741
        },
        "id": "wYS7CP_2HL-K",
        "outputId": "266f83b7-2a18-420c-881e-d293a0029b3c"
      },
      "execution_count": null,
      "outputs": [
        {
          "output_type": "stream",
          "name": "stdout",
          "text": [
            "Accuracy: 0.8441558441558441\n",
            "Precision: 0.8108108108108109\n",
            "Recall 0.7317073170731707\n",
            "F1: 0.7692307692307694\n",
            "ROC_AUC: 0.8188737927647733\n",
            "Confusion matrix, without normalization\n",
            "[[135  14]\n",
            " [ 22  60]]\n"
          ]
        },
        {
          "output_type": "display_data",
          "data": {
            "text/plain": [
              "<Figure size 720x576 with 2 Axes>"
            ],
            "image/png": "[encoded data removed]"
          },
          "metadata": {}
        }
      ]
    },
    {
      "cell_type": "markdown",
      "source": [
        "Данный метод выдает наилучшие показатели среди всех методов. Так доля правильных ответов составила 84,41%, точность и полнотоа в свою очередь по 81,08% и 73,17%. F-мера 76,92%, ROC_AUC 81,88%. Рассмотрим, какая из переменных вносит наибольший вклад в вероятность диабета"
      ],
      "metadata": {
        "id": "bFG4s3to69An"
      }
    },
    {
      "cell_type": "code",
      "source": [
        "importances = rf.feature_importances_\n",
        "indices = np.argsort(importances)[::-1]\n",
        "\n",
        "print(\"Feature importances:\")\n",
        "for f, idx in enumerate(indices):\n",
        "    print(\"{:2d}. feature '{:24s}' ({:.4f})\".format(f + 1, feature_names[idx], importances[idx]))"
      ],
      "metadata": {
        "colab": {
          "base_uri": "https://localhost:8080/"
        },
        "id": "BOHapvoHH5lB",
        "outputId": "a0ab6362-b23b-4949-d113-fa4edcf2e4a4"
      },
      "execution_count": null,
      "outputs": [
        {
          "output_type": "stream",
          "name": "stdout",
          "text": [
            "Feature importances:\n",
            " 1. feature 'Insulin                 ' (0.3109)\n",
            " 2. feature 'Glucose                 ' (0.1753)\n",
            " 3. feature 'SkinThickness           ' (0.1060)\n",
            " 4. feature 'BMI                     ' (0.1045)\n",
            " 5. feature 'Age                     ' (0.0971)\n",
            " 6. feature 'DiabetesPedigreeFunction' (0.0879)\n",
            " 7. feature 'Pregnancies             ' (0.0602)\n",
            " 8. feature 'BloodPressure           ' (0.0581)\n"
          ]
        }
      ]
    },
    {
      "cell_type": "code",
      "source": [
        "d_first = 8\n",
        "plt.figure(figsize=(8, 8))\n",
        "plt.title(\"Feature importances\")\n",
        "plt.bar(range(d_first), importances[indices[:d_first]], align='center')\n",
        "plt.xticks(range(d_first), np.array(feature_names)[indices[:d_first]], rotation=90)\n",
        "plt.xlim([-1, d_first]);"
      ],
      "metadata": {
        "colab": {
          "base_uri": "https://localhost:8080/",
          "height": 620
        },
        "id": "z8vGeWRhIlEr",
        "outputId": "4cd24921-c5c5-4a71-ee5a-3363b593590e"
      },
      "execution_count": null,
      "outputs": [
        {
          "output_type": "display_data",
          "data": {
            "text/plain": [
              "<Figure size 576x576 with 1 Axes>"
            ],
            "image/png": "[encoded data removed]"
          },
          "metadata": {}
        }
      ]
    },
    {
      "cell_type": "markdown",
      "source": [
        "Как видно из графика выше, наибольшую влияние оказывает инсулин и глюкоза, что вполне логично, а вот то что на третьем месте толщина кожи, является неожиданным. При этом наименьшее влияние оказало крвояное давление и количество беременностей."
      ],
      "metadata": {
        "id": "tx1UlkS573HC"
      }
    },
    {
      "cell_type": "code",
      "source": [
        "best_features = indices[:8]\n",
        "best_features_names = feature_names[best_features]\n",
        "print(best_features_names)"
      ],
      "metadata": {
        "colab": {
          "base_uri": "https://localhost:8080/"
        },
        "id": "ZY2HY4dDI4kB",
        "outputId": "34a9cc6c-60b7-43a2-d0c5-da3fc0274163"
      },
      "execution_count": null,
      "outputs": [
        {
          "output_type": "stream",
          "name": "stdout",
          "text": [
            "Index(['Insulin', 'Glucose', 'SkinThickness', 'BMI', 'Age',\n",
            "       'DiabetesPedigreeFunction', 'Pregnancies', 'BloodPressure'],\n",
            "      dtype='object')\n"
          ]
        }
      ]
    },
    {
      "cell_type": "code",
      "source": [
        "for label in result:\n",
        "  print(f'{label.ljust(6)} Accuracy: {round(result[label][0], 4)} Precision: {round(result[label][1], 4)} Recall {round(result[label][2], 4)} F1: {round(result[label][3], 4)} ROC_AUC: {round(result[label][4], 4)}')"
      ],
      "metadata": {
        "colab": {
          "base_uri": "https://localhost:8080/"
        },
        "id": "5Fu8pQZ5aSPX",
        "outputId": "7b1a2ecf-e749-4201-960d-c9a922cee2e0"
      },
      "execution_count": null,
      "outputs": [
        {
          "output_type": "stream",
          "name": "stdout",
          "text": [
            "knn    Accuracy: 0.7965 Precision: 0.7966 Recall 0.5732 F1: 0.6667 ROC_AUC: 0.7463\n",
            "svc    Accuracy: 0.8182 Precision: 0.8125 Recall 0.6341 F1: 0.7123 ROC_AUC: 0.7768\n",
            "svcRad Accuracy: 0.8182 Precision: 0.7778 Recall 0.6829 F1: 0.7273 ROC_AUC: 0.7878\n",
            "svcLin Accuracy: 0.7662 Precision: 0.7917 Recall 0.4634 F1: 0.5846 ROC_AUC: 0.6982\n",
            "rf     Accuracy: 0.8442 Precision: 0.8108 Recall 0.7317 F1: 0.7692 ROC_AUC: 0.8189\n"
          ]
        }
      ]
    },
    {
      "cell_type": "markdown",
      "source": [
        "Как отмечалось выше, наилучшие показатели в большинстве случаев были достигнуты при применении метода слукчайного леса.\n",
        "\n",
        "Проведем сэмплирование тремя разными способами и посмотрим, приведет ли это к какому-либо положительному результату или нет. Применим все методы сэмплирования к методу rf."
      ],
      "metadata": {
        "id": "23NRLHhie0vN"
      }
    },
    {
      "cell_type": "code",
      "source": [
        "SamplingResults = defaultdict(str)"
      ],
      "metadata": {
        "id": "3iE_Ug4XgYkS",
        "colab": {
          "base_uri": "https://localhost:8080/",
          "height": 165
        },
        "outputId": "5a0a3e4b-ce45-419d-b9e3-b7484cbf44fc"
      },
      "execution_count": null,
      "outputs": [
        {
          "output_type": "error",
          "ename": "NameError",
          "evalue": "ignored",
          "traceback": [
            "\u001b[0;31m---------------------------------------------------------------------------\u001b[0m",
            "\u001b[0;31mNameError\u001b[0m                                 Traceback (most recent call last)",
            "\u001b[0;32m<ipython-input-1-e433aa62cafd>\u001b[0m in \u001b[0;36m<module>\u001b[0;34m\u001b[0m\n\u001b[0;32m----> 1\u001b[0;31m \u001b[0mSamplingResults\u001b[0m \u001b[0;34m=\u001b[0m \u001b[0mdefaultdict\u001b[0m\u001b[0;34m(\u001b[0m\u001b[0mstr\u001b[0m\u001b[0;34m)\u001b[0m\u001b[0;34m\u001b[0m\u001b[0;34m\u001b[0m\u001b[0m\n\u001b[0m",
            "\u001b[0;31mNameError\u001b[0m: name 'defaultdict' is not defined"
          ]
        }
      ]
    },
    {
      "cell_type": "markdown",
      "source": [
        "***Random Undersampling***"
      ],
      "metadata": {
        "id": "mYrzj1IefraN"
      }
    },
    {
      "cell_type": "code",
      "source": [
        "from imblearn.under_sampling import RandomUnderSampler\n",
        "data_under = RandomUnderSampler()\n",
        "X_under, y_under = data_under.fit_resample(X, y)\n",
        "X_train_under, X_test_under, y_train_under, y_test_under = train_test_split (X_under,\n",
        "y_under, test_size=0.3, random_state = 11)\n"
      ],
      "metadata": {
        "id": "UTjrOjEMcDPc"
      },
      "execution_count": null,
      "outputs": []
    },
    {
      "cell_type": "code",
      "source": [
        "rf = ensemble.RandomForestClassifier(n_estimators=100, random_state=11)\n",
        "rf.fit(X_train_under, y_train_under)\n",
        "\n",
        "cnf_matrix = confusion_matrix(y_test_under, rf.predict(X_test_under))\n",
        "\n",
        "metric = some_metrics(y_test_under, rf.predict(X_test_under))\n",
        "print(f\"Accuracy: {metric[0]}\\nPrecision: {metric[1]}\\nRecall {metric[2]}\\nF1: {metric[3]}\\nROC_AUC: {metric[4]}\")\n",
        "SamplingResults['RfUnder'] = metric\n",
        "\n",
        "plt.figure(figsize=(10, 8))\n",
        "plot_confusion_matrix(cnf_matrix, classes=['Non-churned', 'Churned'], title='Confusion matrix')\n",
        "plt.show()"
      ],
      "metadata": {
        "colab": {
          "base_uri": "https://localhost:8080/",
          "height": 741
        },
        "id": "acDMnexxfzDO",
        "outputId": "d4d2ad76-c8d0-4b82-ef71-7c63da874b6f"
      },
      "execution_count": null,
      "outputs": [
        {
          "output_type": "stream",
          "name": "stdout",
          "text": [
            "Accuracy: 0.8198757763975155\n",
            "Precision: 0.813953488372093\n",
            "Recall 0.8433734939759037\n",
            "F1: 0.8284023668639053\n",
            "ROC_AUC: 0.8191226444238493\n",
            "Confusion matrix, without normalization\n",
            "[[62 16]\n",
            " [13 70]]\n"
          ]
        },
        {
          "output_type": "display_data",
          "data": {
            "text/plain": [
              "<Figure size 720x576 with 2 Axes>"
            ],
            "image/png": "[encoded data removed]"
          },
          "metadata": {}
        }
      ]
    },
    {
      "cell_type": "markdown",
      "source": [
        "***Random Oversampling***"
      ],
      "metadata": {
        "id": "PVJk4BLIgzjC"
      }
    },
    {
      "cell_type": "code",
      "source": [
        "from imblearn.over_sampling import RandomOverSampler\n",
        "data_over = RandomOverSampler()\n",
        "X_over, y_over = data_over.fit_resample(X, y)\n",
        "X_train_over, X_test_over, y_train_over, y_test_over = train_test_split (X_over,\n",
        "y_over, test_size=0.3, random_state = 11)"
      ],
      "metadata": {
        "id": "JFkUTJzgg3q5"
      },
      "execution_count": null,
      "outputs": []
    },
    {
      "cell_type": "code",
      "source": [
        "rf = ensemble.RandomForestClassifier(n_estimators=100, random_state=11)\n",
        "rf.fit(X_train_over, y_train_over)\n",
        "\n",
        "cnf_matrix = confusion_matrix(y_test_over, rf.predict(X_test_over))\n",
        "\n",
        "metric = some_metrics(y_test_over, rf.predict(X_test_over))\n",
        "print(f\"Accuracy: {metric[0]}\\nPrecision: {metric[1]}\\nRecall {metric[2]}\\nF1: {metric[3]}\\nROC_AUC: {metric[4]}\")\n",
        "SamplingResults['RfOver'] = metric\n",
        "\n",
        "plt.figure(figsize=(10, 8))\n",
        "plot_confusion_matrix(cnf_matrix, classes=['Non-churned', 'Churned'], title='Confusion matrix')\n",
        "plt.show()"
      ],
      "metadata": {
        "colab": {
          "base_uri": "https://localhost:8080/",
          "height": 741
        },
        "id": "iBOhKyWsg-wE",
        "outputId": "e8bfee21-b749-4b75-abfb-03c6ba0e4056"
      },
      "execution_count": null,
      "outputs": [
        {
          "output_type": "stream",
          "name": "stdout",
          "text": [
            "Accuracy: 0.9033333333333333\n",
            "Precision: 0.8733333333333333\n",
            "Recall 0.9290780141843972\n",
            "F1: 0.9003436426116839\n",
            "ROC_AUC: 0.9047905794192427\n",
            "Confusion matrix, without normalization\n",
            "[[140  19]\n",
            " [ 10 131]]\n"
          ]
        },
        {
          "output_type": "display_data",
          "data": {
            "text/plain": [
              "<Figure size 720x576 with 2 Axes>"
            ],
            "image/png": "[encoded data removed]"
          },
          "metadata": {}
        }
      ]
    },
    {
      "cell_type": "markdown",
      "source": [
        "***Synthetic Minority Oversampling Technique***"
      ],
      "metadata": {
        "id": "E4AjOG3dhOcX"
      }
    },
    {
      "cell_type": "code",
      "source": [
        "from imblearn.over_sampling import SMOTE\n",
        "data_smote = SMOTE()\n",
        "X_sm, y_sm = data_smote.fit_resample(X, y)\n",
        "X_train_sm, X_test_sm, y_train_sm, y_test_sm= train_test_split(X_sm, y_sm,\n",
        "test_size=0.3, random_state = 11)"
      ],
      "metadata": {
        "id": "_bOBkKNahUY9"
      },
      "execution_count": null,
      "outputs": []
    },
    {
      "cell_type": "code",
      "source": [
        "rf = ensemble.RandomForestClassifier(n_estimators=100, random_state=11)\n",
        "rf.fit(X_train_sm, y_train_sm)\n",
        "\n",
        "cnf_matrix = confusion_matrix(y_test_sm, rf.predict(X_test_sm))\n",
        "\n",
        "metric = some_metrics(y_test_sm, rf.predict(X_test_sm))\n",
        "print(f\"Accuracy: {metric[0]}\\nPrecision: {metric[1]}\\nRecall {metric[2]}\\nF1: {metric[3]}\\nROC_AUC: {metric[4]}\")\n",
        "SamplingResults['RfSm'] = metric\n",
        "\n",
        "plt.figure(figsize=(10, 8))\n",
        "plot_confusion_matrix(cnf_matrix, classes=['Non-churned', 'Churned'], title='Confusion matrix')\n",
        "plt.show()"
      ],
      "metadata": {
        "colab": {
          "base_uri": "https://localhost:8080/",
          "height": 741
        },
        "id": "qmSTXv8ehinV",
        "outputId": "ebc85b86-a7ff-45be-c07b-ee3e7a28e2c4"
      },
      "execution_count": null,
      "outputs": [
        {
          "output_type": "stream",
          "name": "stdout",
          "text": [
            "Accuracy: 0.88\n",
            "Precision: 0.8620689655172413\n",
            "Recall 0.8865248226950354\n",
            "F1: 0.8741258741258741\n",
            "ROC_AUC: 0.8803693295865114\n",
            "Confusion matrix, without normalization\n",
            "[[139  20]\n",
            " [ 16 125]]\n"
          ]
        },
        {
          "output_type": "display_data",
          "data": {
            "text/plain": [
              "<Figure size 720x576 with 2 Axes>"
            ],
            "image/png": "[encoded data removed]"
          },
          "metadata": {}
        }
      ]
    },
    {
      "cell_type": "code",
      "source": [
        "print(f'{\"rf\".ljust(7)} Accuracy: {round(result[\"rf\"][0], 2)} Precision: {round(result[\"rf\"][1], 2)} Recall {round(result[\"rf\"][2], 2)} F1: {round(result[\"rf\"][3], 2)} ROC_AUC: {round(result[\"rf\"][4], 2)}')\n",
        "for label in SamplingResults:\n",
        "  print(f'{label.ljust(7)} Accuracy: {round(SamplingResults[label][0], 2)} Precision: {round(SamplingResults[label][1], 2)} Recall {round(SamplingResults[label][2], 2)} F1: {round(SamplingResults[label][3], 2)} ROC_AUC: {round(SamplingResults[label][4], 2)}')"
      ],
      "metadata": {
        "colab": {
          "base_uri": "https://localhost:8080/"
        },
        "id": "ks9S7DHUhu2s",
        "outputId": "82c37e80-bddd-4692-917f-b87a0ec40f43"
      },
      "execution_count": null,
      "outputs": [
        {
          "output_type": "stream",
          "name": "stdout",
          "text": [
            "rf      Accuracy: 0.84 Precision: 0.81 Recall 0.73 F1: 0.77 ROC_AUC: 0.82\n",
            "RfUnder Accuracy: 0.82 Precision: 0.81 Recall 0.84 F1: 0.83 ROC_AUC: 0.82\n",
            "RfOver  Accuracy: 0.9 Precision: 0.87 Recall 0.93 F1: 0.9 ROC_AUC: 0.9\n",
            "RfSm    Accuracy: 0.88 Precision: 0.86 Recall 0.89 F1: 0.87 ROC_AUC: 0.88\n"
          ]
        }
      ]
    },
    {
      "cell_type": "markdown",
      "source": [
        "По результатам сэмплирования наилучший показатели были получены после проведения Random Oversampling, по результам которого почти все показатели достигли 0,9.\n",
        "\n"
      ],
      "metadata": {
        "id": "cXU27V6zAG9W"
      }
    }
  ]
}